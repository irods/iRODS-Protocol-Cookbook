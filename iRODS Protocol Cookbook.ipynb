{
 "cells": [
  {
   "cell_type": "code",
   "execution_count": 1,
   "id": "e66fdb07",
   "metadata": {},
   "outputs": [],
   "source": [
    "## This notebook will provide example implementations of key \n",
    "## operations in the iRODS protocol"
   ]
  },
  {
   "cell_type": "code",
   "execution_count": 2,
   "id": "dc628c5c",
   "metadata": {},
   "outputs": [],
   "source": [
    "## We'll be doing this from scratch, so all imports will come from \n",
    "## the Python standard library\n",
    "import socket\n",
    "import struct\n",
    "import base64\n",
    "import json\n",
    "import hashlib\n",
    "import time\n",
    "import enum\n",
    "import xml.etree.ElementTree as ET\n",
    "from enum import Enum"
   ]
  },
  {
   "cell_type": "code",
   "execution_count": 3,
   "id": "ae6ebfc8",
   "metadata": {},
   "outputs": [],
   "source": [
    "## This tutorial assumes you have deployed iRODS in Docker using\n",
    "## the script stand_it_up.py from the iRODS Testing Environment, \n",
    "## which can be found on Github here: https://github.com/irods/irods_testing_environment\n",
    "## To find the IP address associated with your Docker container, you can run this one-liner:\n",
    "## docker inspect   -f '{{range.NetworkSettings.Networks}}{{.IPAddress}}{{end}}' ubuntu-2004-postgres-1012_irods-catalog-provider_1\n",
    "## Otherwise, if want to try this out on a real-world zone, insert that zone's hostname here.\n",
    "HOST = \"172.19.0.3\""
   ]
  },
  {
   "cell_type": "code",
   "execution_count": 4,
   "id": "a8c1d8c2",
   "metadata": {},
   "outputs": [],
   "source": [
    "PORT = 1247 ## This is the standard iRODS port\n",
    "MAX_PASSWORD_LENGTH = 50 ## This constant comes \n",
    "                         ## from the internals \n",
    "                         ## of the iRODS server"
   ]
  },
  {
   "cell_type": "code",
   "execution_count": 5,
   "id": "de48f839",
   "metadata": {},
   "outputs": [],
   "source": [
    "## First, we're going to write a small library of functions that do some \n",
    "## of the dirty work. \n",
    "## Feel free to skip to cell 15, where we start using this library to send\n",
    "## and read messages, referring to this part to figure out how\n",
    "## the part you're interested in was implemented."
   ]
  },
  {
   "cell_type": "code",
   "execution_count": 6,
   "id": "3689fe9d",
   "metadata": {},
   "outputs": [],
   "source": [
    "## We can define these in an enum since \n",
    "## header types are a closed class and are not sensitive to any\n",
    "## particular API.\n",
    "class HeaderType(Enum):\n",
    "    RODS_CONNECT = \"RODS_CONNECT\"\n",
    "    RODS_DISCONNECT = \"RODS_DISCONNECT\"\n",
    "    RODS_API_REQ = \"RODS_API_REQ\"\n",
    "    RODS_API_REPLY = \"RODS_API_REPLY\"\n",
    "    RODS_VERSIN = \"RODS_VERSION\"\n",
    "\n",
    "def header(header_type: HeaderType, msg: bytes, error_len=0, bs_len=0, int_info=0):\n",
    "    return f\"\"\"\n",
    "        <MsgHeader_PI>\n",
    "            <type>RODS_CONNECT</type>\n",
    "            <msgLen>{len(msg)}</msgLen>\n",
    "            <errorLen>{error_len}</errorLen>\n",
    "            <bsLen>{bs_len}</bsLen>\n",
    "            <intInfo>{int_info}</intInfo>\n",
    "        </MsgHeader_PI>\n",
    "        \"\"\".replace(' ', '').replace('\\n', '').encode('utf-8') ## The protocol is whitespace-insensitive,\n",
    "                                                               ## but I removed them here for cleanliness\n",
    "                                                               ## and efficiency for when this gets pushed\n",
    "                                                               ## through the pipe."
   ]
  },
  {
   "cell_type": "code",
   "execution_count": 13,
   "id": "399ab08f",
   "metadata": {},
   "outputs": [],
   "source": [
    "def send_header(header, sock):\n",
    "    header_len = int.to_bytes(len(header), byteorder='big', length=4) ## The first part of all iRODS messages\n",
    "                                                                      ## must be 4 bytes indicating how long\n",
    "                                                                      ## the header is in bytes. These bytes\n",
    "                                                                      ## and the entire integer must be transmitted\n",
    "                                                                      ## in big-endian order\n",
    "    print(header_len)\n",
    "    sock.sendall(header_len)\n",
    "    sock.sendall(header)\n",
    "    \n",
    "def send_msg(msg, sock) -> None:\n",
    "    sock.sendall(msg)\n",
    "    \n",
    "def recv(sock) -> [ET, ET]:\n",
    "    header_len = int.from_bytes(sock.recv(4))\n",
    "    header = ET.fromstring(\n",
    "        sock.recv(header_len).decode(\"utf-8\")\n",
    "    )\n",
    "    msg = ET.fromstring(sock.recv(\n",
    "        int(header.find(\"msgLen\").text)\n",
    "    ).decode(\"utf-8\"))\n",
    "    \n",
    "    return header, msg"
   ]
  },
  {
   "cell_type": "code",
   "execution_count": 14,
   "id": "c003556b",
   "metadata": {},
   "outputs": [],
   "source": [
    "class IrodsProt(Enum):\n",
    "    NATIVE_PROT = 0\n",
    "    XML_PROT = 1\n",
    "\n",
    "## Now, let's start the connection process. First, we need an easy way to create the StartupPack.\n",
    "def startup_pack(irods_prot=IrodsProt.XML_PROT,reconn_flag=0, connect_cnt=0,proxy_user=None,proxy_rcat_zone=None,\n",
    "                      client_user=\"rods\", client_rcat_zone=\"tempZone\", rel_version=\"4.3.0\", \n",
    "                      api_version=\"d\", ## This MUST ALWAYS be \"d.\" This value has been hardcoded into iRODS\n",
    "                                       ## since very early days.\n",
    "                      option=None ## This option controls, among other things,whether SSL negotiation is required.\n",
    "                ) -> str:\n",
    "    return f\"\"\"\n",
    "    <StartupPack_PI>\n",
    "             <irodsProt>{irods_prot}</irodsProt>\n",
    "             <reconnFlag>{reconn_flag}</reconnFlag>\n",
    "             <connectCnt>{connect_cnt}</connectCnt>\n",
    "             <proxyUser>{proxy_user or client_user}</proxyUser>\n",
    "             <proxyRcatZone>{proxy_rcat_zone or client_rcat_zone}</proxyRcatZone>\n",
    "             <clientUser>{client_user}</clientUser>\n",
    "             <clientRcatZone>{client_rcat_zone}</clientRcatZone>\n",
    "             <relVersion>rods{rel_version}</relVersion>\n",
    "             <apiVersion>{api_version}</apiVersion>\n",
    "             <option>{option}</option>\n",
    "    </StartupPack_PI>\n",
    "    \"\"\".replace(\" \", \"\").replace(\"\\n\", \"\").encode(\"utf-8\")"
   ]
  },
  {
   "cell_type": "code",
   "execution_count": 15,
   "id": "d63a407a",
   "metadata": {},
   "outputs": [],
   "source": [
    "## We're going to be sending raw bytes over a socket, so let's create one\n",
    "## If at some point the Notebook stops working, remember\n",
    "## to manually close the socket. \n",
    "conn = socket.socket(socket.AF_INET, socket.SOCK_STREAM)\n",
    "conn.connect((HOST, PORT)) "
   ]
  },
  {
   "cell_type": "code",
   "execution_count": 16,
   "id": "c4fc1ff5",
   "metadata": {},
   "outputs": [
    {
     "data": {
      "text/plain": [
       "b'<StartupPack_PI><irodsProt>IrodsProt.XML_PROT</irodsProt><reconnFlag>0</reconnFlag><connectCnt>0</connectCnt><proxyUser>rods</proxyUser><proxyRcatZone>tempZone</proxyRcatZone><clientUser>rods</clientUser><clientRcatZone>tempZone</clientRcatZone><relVersion>rods4.3.0</relVersion><apiVersion>d</apiVersion><option>None</option></StartupPack_PI>'"
      ]
     },
     "execution_count": 16,
     "metadata": {},
     "output_type": "execute_result"
    }
   ],
   "source": [
    "sp = startup_pack()\n",
    "sp"
   ]
  },
  {
   "cell_type": "code",
   "execution_count": 17,
   "id": "ead57d36",
   "metadata": {},
   "outputs": [
    {
     "data": {
      "text/plain": [
       "b'<MsgHeader_PI><type>RODS_CONNECT</type><msgLen>343</msgLen><errorLen>0</errorLen><bsLen>0</bsLen><intInfo>0</intInfo></MsgHeader_PI>'"
      ]
     },
     "execution_count": 17,
     "metadata": {},
     "output_type": "execute_result"
    }
   ],
   "source": [
    "h = header(HeaderType.RODS_CONNECT, sp)\n",
    "h"
   ]
  },
  {
   "cell_type": "code",
   "execution_count": 18,
   "id": "a63401f8",
   "metadata": {},
   "outputs": [
    {
     "name": "stdout",
     "output_type": "stream",
     "text": [
      "b'\\x00\\x00\\x00\\x84'\n"
     ]
    }
   ],
   "source": [
    "send_header(h, conn)\n",
    "send_msg(sp, conn)"
   ]
  },
  {
   "cell_type": "code",
   "execution_count": 19,
   "id": "156aa794",
   "metadata": {},
   "outputs": [
    {
     "name": "stdout",
     "output_type": "stream",
     "text": [
      "<MsgHeader_PI>\n",
      "<type>RODS_VERSION</type>\n",
      "<msgLen>182</msgLen>\n",
      "<errorLen>0</errorLen>\n",
      "<bsLen>0</bsLen>\n",
      "<intInfo>0</intInfo>\n",
      "</MsgHeader_PI>\n",
      "<Version_PI>\n",
      "<status>0</status>\n",
      "<relVersion>rods4.3.0</relVersion>\n",
      "<apiVersion>d</apiVersion>\n",
      "<reconnPort>0</reconnPort>\n",
      "<reconnAddr />\n",
      "<cookie>400</cookie>\n",
      "</Version_PI>\n"
     ]
    }
   ],
   "source": [
    "## In this Version_PI, status of 0 lets us know that negotiation has been successful.\n",
    "h, msg = recv(conn)\n",
    "ET.dump(h)\n",
    "ET.dump(msg)"
   ]
  },
  {
   "cell_type": "code",
   "execution_count": null,
   "id": "f8360096",
   "metadata": {},
   "outputs": [],
   "source": [
    "## Next up, we need to authenticate using our API of choice. \n",
    "## Since this is a basic cookbook for 4.3.0, we'll be using the new \n",
    "## auth framework's port of native authentication."
   ]
  },
  {
   "cell_type": "code",
   "execution_count": 20,
   "id": "a2778b85",
   "metadata": {},
   "outputs": [],
   "source": [
    "conn.close()"
   ]
  }
 ],
 "metadata": {
  "kernelspec": {
   "display_name": "Python 3 (ipykernel)",
   "language": "python",
   "name": "python3"
  },
  "language_info": {
   "codemirror_mode": {
    "name": "ipython",
    "version": 3
   },
   "file_extension": ".py",
   "mimetype": "text/x-python",
   "name": "python",
   "nbconvert_exporter": "python",
   "pygments_lexer": "ipython3",
   "version": "3.11.1"
  }
 },
 "nbformat": 4,
 "nbformat_minor": 5
}

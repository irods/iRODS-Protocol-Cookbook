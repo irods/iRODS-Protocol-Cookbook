{
 "cells": [
  {
   "cell_type": "markdown",
   "id": "f38abb02",
   "metadata": {},
   "source": [
    "# IRODS Protocol Cookbook\n",
    "\n",
    "This notebook will provide example implementations of key \n",
    "operations in the iRODS protocol. Read from the beginnging or use this table of contents to skip to the section that interests you. Once you've jumped to that spot, make sure the cell with the anchor is selected and run `Cell > Run All Above`.\n",
    "\n",
    "## Table of Contents\n",
    "\n",
    "* [Handshake](#handshake)\n",
    "* [Authentication](#authentication)\n",
    "* [ils](#ils)\n",
    "    - [Stat a collection](#stat_coll)"
   ]
  },
  {
   "cell_type": "code",
   "execution_count": 1,
   "id": "dc628c5c",
   "metadata": {},
   "outputs": [],
   "source": [
    "## We'll be doing this from scratch, so all imports will come from \n",
    "## the Python standard library\n",
    "import socket\n",
    "import struct\n",
    "import base64\n",
    "import json\n",
    "import hashlib\n",
    "import time\n",
    "import enum\n",
    "import xml.etree.ElementTree as ET\n",
    "from enum import Enum"
   ]
  },
  {
   "cell_type": "markdown",
   "id": "0c91015d",
   "metadata": {},
   "source": [
    "This tutorial assumes you have deployed iRODS in Docker using\n",
    "the script stand_it_up.py from the iRODS Testing Environment, \n",
    "which can be found on Github [here](https://github.com/irods/irods_testing_environment)\n",
    "To find the IP address associated with your Docker container, you can run this one-liner:\n",
    "```bash\n",
    "docker inspect   -f '{{range.NetworkSettings.Networks}}{{.IPAddress}}{{end}}' ubuntu-2004-postgres-1012_irods-catalog-provider_1\n",
    "```\n",
    "Otherwise, if want to try this out on a real-world zone, insert that zone's hostname here."
   ]
  },
  {
   "cell_type": "code",
   "execution_count": null,
   "id": "74b0de59",
   "metadata": {},
   "outputs": [],
   "source": [
    "HOST = \"172.27.0.3\""
   ]
  },
  {
   "cell_type": "code",
   "execution_count": 3,
   "id": "a8c1d8c2",
   "metadata": {},
   "outputs": [],
   "source": [
    "PORT = 1247 ## This is the standard iRODS port\n",
    "MAX_PASSWORD_LENGTH = 50 ## This constant comes \n",
    "                         ## from the internals \n",
    "                         ## of the iRODS server"
   ]
  },
  {
   "cell_type": "markdown",
   "id": "39d8eec8",
   "metadata": {},
   "source": [
    "First, we're going to write a small library of functions that do some \n",
    "of the dirty work. \n",
    "Feel free to skip to [here](#start_of_real_work), where we start using this library to send\n",
    "and read messages, referring to this part to figure out how\n",
    "the part you're interested in was implemented."
   ]
  },
  {
   "cell_type": "code",
   "execution_count": 4,
   "id": "3689fe9d",
   "metadata": {},
   "outputs": [],
   "source": [
    "## We can define these in an enum since \n",
    "## header types are a closed class and are not sensitive to any\n",
    "## particular API.\n",
    "class HeaderType(Enum):\n",
    "    RODS_CONNECT = \"RODS_CONNECT\"\n",
    "    RODS_DISCONNECT = \"RODS_DISCONNECT\"\n",
    "    RODS_API_REQ = \"RODS_API_REQ\"\n",
    "    RODS_API_REPLY = \"RODS_API_REPLY\"\n",
    "    RODS_VERSION = \"RODS_VERSION\"\n",
    "\n",
    "def header(header_type: HeaderType, msg: bytes, \n",
    "           error_len=0, bs_len=0, int_info=0) -> bytes:\n",
    "    return f\"\"\"\n",
    "        <MsgHeader_PI>\n",
    "            <type>{header_type}</type>\n",
    "            <msgLen>{len(msg)}</msgLen>\n",
    "            <errorLen>{error_len}</errorLen>\n",
    "            <bsLen>{bs_len}</bsLen>\n",
    "            <intInfo>{int_info}</intInfo>\n",
    "        </MsgHeader_PI>\n",
    "        \"\"\".replace(' ', '').replace('\\n', '').encode('utf-8') ## The protocol is whitespace-insensitive,\n",
    "                                                               ## but I removed them here for cleanliness\n",
    "                                                               ## and efficiency for when this gets pushed\n",
    "                                                               ## through the pipe."
   ]
  },
  {
   "cell_type": "code",
   "execution_count": 5,
   "id": "399ab08f",
   "metadata": {},
   "outputs": [],
   "source": [
    "def send_header(header: bytes, sock: socket) -> None:\n",
    "    header_len = int.to_bytes(len(header), byteorder='big', length=4) ## The first part of all iRODS messages\n",
    "                                                                      ## must be 4 bytes indicating how long\n",
    "                                                                      ## the header is in bytes. These bytes\n",
    "                                                                      ## and the entire integer must be transmitted\n",
    "                                                                      ## in big-endian order\n",
    "    print(header_len)\n",
    "    sock.sendall(header_len)\n",
    "    sock.sendall(header)\n",
    "    \n",
    "def send_msg(msg: bytes, sock: socket) -> None:\n",
    "    sock.sendall(msg)\n",
    "    \n",
    "def recv(sock: socket) -> [ET, ET]:\n",
    "    header_len = int.from_bytes(sock.recv(4), byteorder='big')\n",
    "    print(f\"HEADER LEN: [{header_len}]\")\n",
    "    header = sock.recv(header_len).decode(\"utf-8\")\n",
    "    print(f\"HEADER: [{header}]\")\n",
    "    \n",
    "    msg = sock.recv(\n",
    "        int(ET.fromstring(header).find(\"msgLen\").text)).decode(\"utf-8\")\n",
    "    print(f\"MSG: [{msg}]\")\n",
    "    \n",
    "    return ET.fromstring(header), ET.fromstring(msg)"
   ]
  },
  {
   "cell_type": "markdown",
   "id": "fe23f0bf",
   "metadata": {},
   "source": [
    "## Start of the \"Real Work\" <a class=\"anchor\" id=\"start_of_real_work\"></a>\n",
    "Note that even if you are using a plugin for authentication, iRODS may still refer to the information in the StartupPack_PI during authentication. If you are experiencing bugs during that step, check your Startup Pack as well as the structures associated with your specific plugin."
   ]
  },
  {
   "cell_type": "code",
   "execution_count": 6,
   "id": "c003556b",
   "metadata": {},
   "outputs": [],
   "source": [
    "class IrodsProt(Enum):\n",
    "    NATIVE_PROT = 0\n",
    "    XML_PROT = 1\n",
    "\n",
    "## Now, let's start the connection process. First, we need an easy way to create the StartupPack.\n",
    "def startup_pack(irods_prot=IrodsProt.XML_PROT.value,\n",
    "                 reconn_flag=0, \n",
    "                 connect_cnt=0,\n",
    "                 proxy_user=None,\n",
    "                 proxy_rcat_zone=None,\n",
    "                 client_user=\"rods\", \n",
    "                 client_rcat_zone=\"tempZone\", \n",
    "                 rel_version=\"4.3.0\", \n",
    "                 api_version=\"d\", ## This MUST ALWAYS be \"d.\" This value has been hardcoded into iRODS\n",
    "                                  ## since very early days.\n",
    "                 option=None ## This option controls, among other things,whether SSL negotiation is required.\n",
    "                ) -> bytes:\n",
    "    return f\"\"\"\n",
    "    <StartupPack_PI>\n",
    "             <irodsProt>{irods_prot}</irodsProt>\n",
    "             <reconnFlag>{reconn_flag}</reconnFlag>\n",
    "             <connectCnt>{connect_cnt}</connectCnt>\n",
    "             <proxyUser>{proxy_user or client_user}</proxyUser>\n",
    "             <proxyRcatZone>{proxy_rcat_zone or client_rcat_zone}</proxyRcatZone>\n",
    "             <clientUser>{client_user}</clientUser>\n",
    "             <clientRcatZone>{client_rcat_zone}</clientRcatZone>\n",
    "             <relVersion>rods{rel_version}</relVersion>\n",
    "             <apiVersion>{api_version}</apiVersion>\n",
    "             <option>{option}</option>\n",
    "    </StartupPack_PI>\n",
    "    \"\"\".replace(\" \", \"\").replace(\"\\n\", \"\").encode(\"utf-8\")"
   ]
  },
  {
   "cell_type": "markdown",
   "id": "507545b9",
   "metadata": {},
   "source": [
    "We're going to be sending raw bytes over a socket, so let's create one\n",
    "If at some point the Notebook stops working, remember\n",
    "to manually close the socket."
   ]
  },
  {
   "cell_type": "code",
   "execution_count": 7,
   "id": "2c0748a4",
   "metadata": {},
   "outputs": [],
   "source": [
    "conn = socket.socket(socket.AF_INET, socket.SOCK_STREAM)\n",
    "conn.connect((HOST, PORT)) "
   ]
  },
  {
   "cell_type": "markdown",
   "id": "b1af7b30",
   "metadata": {},
   "source": [
    "## Handshake <a class=\"anchor\" id=\"handshake\"></a>"
   ]
  },
  {
   "cell_type": "code",
   "execution_count": 8,
   "id": "c4fc1ff5",
   "metadata": {},
   "outputs": [
    {
     "data": {
      "text/plain": [
       "b'<StartupPack_PI><irodsProt>1</irodsProt><reconnFlag>0</reconnFlag><connectCnt>0</connectCnt><proxyUser>rods</proxyUser><proxyRcatZone>tempZone</proxyRcatZone><clientUser>rods</clientUser><clientRcatZone>tempZone</clientRcatZone><relVersion>rods4.3.0</relVersion><apiVersion>d</apiVersion><option>None</option></StartupPack_PI>'"
      ]
     },
     "execution_count": 8,
     "metadata": {},
     "output_type": "execute_result"
    }
   ],
   "source": [
    "sp = startup_pack()\n",
    "sp"
   ]
  },
  {
   "cell_type": "code",
   "execution_count": 9,
   "id": "a4c10fc2",
   "metadata": {},
   "outputs": [
    {
     "data": {
      "text/plain": [
       "b'<MsgHeader_PI><type>RODS_CONNECT</type><msgLen>326</msgLen><errorLen>0</errorLen><bsLen>0</bsLen><intInfo>0</intInfo></MsgHeader_PI>'"
      ]
     },
     "execution_count": 9,
     "metadata": {},
     "output_type": "execute_result"
    }
   ],
   "source": [
    "h = header(HeaderType.RODS_CONNECT.value, sp)\n",
    "h"
   ]
  },
  {
   "cell_type": "code",
   "execution_count": 10,
   "id": "46a98718",
   "metadata": {},
   "outputs": [
    {
     "name": "stdout",
     "output_type": "stream",
     "text": [
      "b'\\x00\\x00\\x00\\x84'\n"
     ]
    }
   ],
   "source": [
    "send_header(h, conn)\n",
    "send_msg(sp, conn)"
   ]
  },
  {
   "cell_type": "code",
   "execution_count": 11,
   "id": "156aa794",
   "metadata": {},
   "outputs": [
    {
     "name": "stdout",
     "output_type": "stream",
     "text": [
      "HEADER LEN: [139]\n",
      "HEADER: [<MsgHeader_PI>\n",
      "<type>RODS_VERSION</type>\n",
      "<msgLen>182</msgLen>\n",
      "<errorLen>0</errorLen>\n",
      "<bsLen>0</bsLen>\n",
      "<intInfo>0</intInfo>\n",
      "</MsgHeader_PI>\n",
      "]\n",
      "MSG: [<Version_PI>\n",
      "<status>0</status>\n",
      "<relVersion>rods4.3.0</relVersion>\n",
      "<apiVersion>d</apiVersion>\n",
      "<reconnPort>0</reconnPort>\n",
      "<reconnAddr></reconnAddr>\n",
      "<cookie>400</cookie>\n",
      "</Version_PI>\n",
      "]\n"
     ]
    }
   ],
   "source": [
    "## In this Version_PI, status of 0 lets us know that negotiation has been successful.\n",
    "h, msg = recv(conn)"
   ]
  },
  {
   "cell_type": "markdown",
   "id": "a2aa8f4a",
   "metadata": {},
   "source": [
    "## Authentication <a class=\"anchor\" id=\"authentication\"></a>\n",
    "\n",
    "Next up, we need to authenticate using our API of choice. \n",
    "Since this is a basic cookbook for 4.3.0, we'll be using the new \n",
    "auth framework's port of native authentication.\n",
    "This API works by exchanging binary buffers between client and server.\n",
    "Since XML must be valid UTF-8, this binary data MUST be base64-encoded."
   ]
  },
  {
   "cell_type": "code",
   "execution_count": 12,
   "id": "51a326c6",
   "metadata": {},
   "outputs": [],
   "source": [
    "def encode_dict_as_base64_json(d: dict): \n",
    "    return base64.b64encode(\n",
    "        json.dumps(d).encode('utf-8'))"
   ]
  },
  {
   "cell_type": "markdown",
   "id": "05d82a1f",
   "metadata": {},
   "source": [
    "The payload is decoded because otherwise Python will \n",
    "add extra characters to give a string representation of the bytes object"
   ]
  },
  {
   "cell_type": "code",
   "execution_count": 13,
   "id": "60f63630",
   "metadata": {},
   "outputs": [],
   "source": [
    "def read_base64_into_json(bsix: bytes, trunc=False) -> dict:\n",
    "    decoded = base64.b64decode(bsix).decode('utf-8')\n",
    "    return json.loads(decoded[:-1]) if trunc else json.loads(decoded)\n",
    "\n",
    "def bin_bytes_buf(payload: dict) -> bytes:\n",
    "    payload = encode_dict_as_base64_json(payload)\n",
    "    return f\"\"\"\n",
    "    <BinBytesBuf_PI>\n",
    "        <buflen>{len(payload)}</buflen>\n",
    "        <buf>{payload.decode('utf-8')}</buf>\n",
    "    </BinBytesBuf_PI>\n",
    "    \"\"\".replace(\" \", \"\").replace(\"\\n\",\"\").encode('utf8')"
   ]
  },
  {
   "cell_type": "code",
   "execution_count": 14,
   "id": "710cb919",
   "metadata": {},
   "outputs": [],
   "source": [
    "## Some API-specific parameters\n",
    "auth_ctx = {\n",
    "    \"a_ttl\":\"0\",\n",
    "    \"force_password_prompt\":\"true\",\n",
    "    \"next_operation\":\"auth_agent_auth_request\",\n",
    "    \"scheme\":\"native\",\n",
    "    \"user_name\":\"rods\",\n",
    "    \"zone_name\":\"tempZone\"\n",
    "}"
   ]
  },
  {
   "cell_type": "code",
   "execution_count": 15,
   "id": "d01c8c62",
   "metadata": {},
   "outputs": [
    {
     "name": "stdout",
     "output_type": "stream",
     "text": [
      "b'<BinBytesBuf_PI><buflen>212</buflen><buf>eyJhX3R0bCI6ICIwIiwgImZvcmNlX3Bhc3N3b3JkX3Byb21wdCI6ICJ0cnVlIiwgIm5leHRfb3BlcmF0aW9uIjogImF1dGhfYWdlbnRfYXV0aF9yZXF1ZXN0IiwgInNjaGVtZSI6ICJuYXRpdmUiLCAidXNlcl9uYW1lIjogInJvZHMiLCAiem9uZV9uYW1lIjogInRlbXBab25lIn0=</buf></BinBytesBuf_PI>'\n",
      "b'\\x00\\x00\\x00\\x89'\n"
     ]
    }
   ],
   "source": [
    "AUTHENTICATION_APN = 110000 ## The API number for the 4.3.0 auth framework\n",
    "initial_auth_msg = bin_bytes_buf(auth_ctx)\n",
    "print(initial_auth_msg)\n",
    "h = header(HeaderType.RODS_API_REQ.value, \n",
    "           initial_auth_msg, \n",
    "           int_info=AUTHENTICATION_APN)\n",
    "send_header(h, conn)\n",
    "send_msg(initial_auth_msg, conn)"
   ]
  },
  {
   "cell_type": "code",
   "execution_count": 16,
   "id": "7c166a29",
   "metadata": {},
   "outputs": [
    {
     "name": "stdout",
     "output_type": "stream",
     "text": [
      "HEADER LEN: [141]\n",
      "HEADER: [<MsgHeader_PI>\n",
      "<type>RODS_API_REPLY</type>\n",
      "<msgLen>380</msgLen>\n",
      "<errorLen>0</errorLen>\n",
      "<bsLen>0</bsLen>\n",
      "<intInfo>0</intInfo>\n",
      "</MsgHeader_PI>\n",
      "]\n",
      "MSG: [<BinBytesBuf_PI>\n",
      "<buflen>232</buflen>\n",
      "<buf>eyJhX3R0bCI6IjAiLCJmb3JjZV9wYXNzd29yZF9wcm9tcHQiOiJ0cnVlIiwibmV4dF9vcGVyYXRpb24iOiJhdXRoX2FnZW50X2F1dGhfcmVxdWVzdCIsInJlcXVlc3RfcmVzdWx0IjoiY2Y4NjcyOWNjNGFjOTY0NDMwZGVlOGFiMjI5OWVlYTFmZDcwNDZlMmFjNzE4YjIxMmUwMGQ1OTRkNDk5Nzc1OCIsInNjaGVtZSI6Im5hdGl2ZSIsInVzZXJfbmFtZSI6InJvZHMiLCJ6b25lX25hbWUiOiJ0ZW1wWm9uZSJ9AA==</buf>\n",
      "</BinBytesBuf_PI>\n",
      "]\n"
     ]
    }
   ],
   "source": [
    "h, m = recv(conn)"
   ]
  },
  {
   "cell_type": "markdown",
   "id": "8061bd75",
   "metadata": {},
   "source": [
    "If you were writing a real client library or application, you would want to check intInfo for error codes\n",
    "so you could respond appropriately. Here, we're going to move on blissfully unaware."
   ]
  },
  {
   "cell_type": "code",
   "execution_count": 17,
   "id": "df74a610",
   "metadata": {},
   "outputs": [
    {
     "name": "stdout",
     "output_type": "stream",
     "text": [
      "REQUEST RESULT: [cf86729cc4ac964430dee8ab2299eea1fd7046e2ac718b212e00d594d4997758]\n"
     ]
    }
   ],
   "source": [
    "auth_ctx = read_base64_into_json(m.find(\"buf\").text, trunc=True)\n",
    "request_result = auth_ctx[ 'request_result']\n",
    "print(f\"REQUEST RESULT: [{request_result}]\")"
   ]
  },
  {
   "cell_type": "code",
   "execution_count": 18,
   "id": "fe416687",
   "metadata": {},
   "outputs": [
    {
     "name": "stdout",
     "output_type": "stream",
     "text": [
      "b'<BinBytesBuf_PI><buflen>380</buflen><buf>eyJhX3R0bCI6ICIwIiwgImZvcmNlX3Bhc3N3b3JkX3Byb21wdCI6ICJ0cnVlIiwgIm5leHRfb3BlcmF0aW9uIjogImF1dGhfYWdlbnRfYXV0aF9yZXNwb25zZSIsICJyZXF1ZXN0X3Jlc3VsdCI6ICJjZjg2NzI5Y2M0YWM5NjQ0MzBkZWU4YWIyMjk5ZWVhMWZkNzA0NmUyYWM3MThiMjEyZTAwZDU5NGQ0OTk3NzU4IiwgInNjaGVtZSI6ICJuYXRpdmUiLCAidXNlcl9uYW1lIjogInJvZHMiLCAiem9uZV9uYW1lIjogInRlbXBab25lIiwgImRpZ2VzdCI6ICJvVzNydmp6NWd5M3VzWnp2allWblJRPT0ifQ==</buf></BinBytesBuf_PI>'\n"
     ]
    }
   ],
   "source": [
    "def pad_password(pw: str) -> bytes:\n",
    "    return struct.pack(\"%ds\" % MAX_PASSWORD_LENGTH, pw.encode(\"utf-8\").strip())\n",
    "\n",
    "## Native auth specific operations\n",
    "m = hashlib.md5()\n",
    "m.update(request_result.encode(\"utf-8\"))\n",
    "m.update(pad_password(\"rods\"))\n",
    "digest = m.digest()\n",
    "encoded_digest = base64.b64encode(digest).decode('utf-8')\n",
    "auth_ctx['digest'] = encoded_digest\n",
    "auth_ctx['next_operation'] = 'auth_agent_auth_response'\n",
    "challenge_response = bin_bytes_buf(auth_ctx)\n",
    "print(challenge_response)"
   ]
  },
  {
   "cell_type": "code",
   "execution_count": 19,
   "id": "95b977dc",
   "metadata": {},
   "outputs": [
    {
     "name": "stdout",
     "output_type": "stream",
     "text": [
      "b'\\x00\\x00\\x00\\x89'\n"
     ]
    }
   ],
   "source": [
    "h = header(HeaderType.RODS_API_REQ.value, challenge_response, int_info=AUTHENTICATION_APN)\n",
    "send_header(h, conn)\n",
    "send_msg(challenge_response, conn)"
   ]
  },
  {
   "cell_type": "markdown",
   "id": "6ae846c5",
   "metadata": {},
   "source": [
    "Once again, an `intInfo` of 0 is the auth framework's way of telling us that we've successfully authenticated. Decode the buf frame base64 if you'd like to double check the state of the auth context."
   ]
  },
  {
   "cell_type": "code",
   "execution_count": 20,
   "id": "c52e4b70",
   "metadata": {},
   "outputs": [
    {
     "name": "stdout",
     "output_type": "stream",
     "text": [
      "HEADER LEN: [141]\n",
      "HEADER: [<MsgHeader_PI>\n",
      "<type>RODS_API_REPLY</type>\n",
      "<msgLen>428</msgLen>\n",
      "<errorLen>0</errorLen>\n",
      "<bsLen>0</bsLen>\n",
      "<intInfo>0</intInfo>\n",
      "</MsgHeader_PI>\n",
      "]\n",
      "MSG: [<BinBytesBuf_PI>\n",
      "<buflen>269</buflen>\n",
      "<buf>eyJhX3R0bCI6IjAiLCJkaWdlc3QiOiJvVzNydmp6NWd5M3VzWnp2allWblJRPT0iLCJmb3JjZV9wYXNzd29yZF9wcm9tcHQiOiJ0cnVlIiwibmV4dF9vcGVyYXRpb24iOiJhdXRoX2FnZW50X2F1dGhfcmVzcG9uc2UiLCJyZXF1ZXN0X3Jlc3VsdCI6ImNmODY3MjljYzRhYzk2NDQzMGRlZThhYjIyOTllZWExZmQ3MDQ2ZTJhYzcxOGIyMTJlMDBkNTk0ZDQ5OTc3NTgiLCJzY2hlbWUiOiJuYXRpdmUiLCJ1c2VyX25hbWUiOiJyb2RzIiwiem9uZV9uYW1lIjoidGVtcFpvbmUifQA=</buf>\n",
      "</BinBytesBuf_PI>\n",
      "]\n"
     ]
    }
   ],
   "source": [
    "h, m = recv(conn)"
   ]
  },
  {
   "cell_type": "markdown",
   "id": "e23c2e16",
   "metadata": {},
   "source": [
    "# ils <a class=\"anchor\" id=\"ils\"></a>\n",
    "Next, let's perform an `ils`. The iCommands implementation does a little bit of verification, so we'll see how to perform object stat-ing, genQuery, and specQuery here."
   ]
  },
  {
   "cell_type": "markdown",
   "id": "c254487b",
   "metadata": {},
   "source": [
    "## Stat a Collection <a class=\"anchor\" id=\"stat_coll\"></a>\n",
    "This step is necessary to make sure that the directory about to be ls'd actually exists."
   ]
  },
  {
   "cell_type": "markdown",
   "id": "9da14a4a",
   "metadata": {},
   "source": [
    "First, we'll have to generate a `DataObjInp_PI`. This is a generic message type used for all sorts of operations. It also contains a `KeyValPair_PI`, which is an important data structure in the iRODS protocol. Although it cannot be sent on its own, it is a very important vehicle for parameters. Internally, this `KeyValPair_PI` is a cond_input structure."
   ]
  },
  {
   "cell_type": "code",
   "execution_count": 21,
   "id": "83284bcb",
   "metadata": {},
   "outputs": [],
   "source": [
    "def data_obj_inp(\n",
    "    obj_path,\n",
    "    create_mode=\"0\",\n",
    "    open_flags=\"0\",\n",
    "    offset=\"0\",\n",
    "    data_size=\"0\",\n",
    "    num_threads=\"0\",\n",
    "    opr_type=\"0\",\n",
    "    cond_input= {}\n",
    ") -> bytes:\n",
    "    obj_inp = ET.fromstring(f\"\"\"\n",
    "    <DataObjInp_PI>\n",
    "        <objPath>{obj_path}</objPath>\n",
    "        <createMode>{create_mode}</createMode>\n",
    "        <openFlags>{open_flags}</openFlags>\n",
    "        <offset>{offset}</offset>\n",
    "        <dataSize>{data_size}</dataSize>\n",
    "        <numThreads>{num_threads}</numThreads>\n",
    "        <oprType>{opr_type}</oprType>\n",
    "    </DataObjInp_PI>\n",
    "    \"\"\")\n",
    "    ET.indent(obj_inp)\n",
    "    obj_inp = append_kvp(obj_inp, cond_input)\n",
    "    ret = ET.tostring(obj_inp).decode(\"utf-8\").replace(\"\\n\", \"\").replace(\" \", \"\").encode('utf-8')\n",
    "    print(ret)\n",
    "    return ret\n",
    "    \n",
    "def parse_key_val_pair_into_dict(kvp: ET):\n",
    "    ret = {}\n",
    "\n",
    "    return ret"
   ]
  },
  {
   "cell_type": "markdown",
   "id": "670c8f49",
   "metadata": {},
   "source": [
    "Next, we'll need some utility methods. How these work might not be totally obvious, so consider reading ahead and revisiting these once you've seen how it's used in the stat API Call."
   ]
  },
  {
   "cell_type": "code",
   "execution_count": 22,
   "id": "ec16bee2",
   "metadata": {},
   "outputs": [],
   "source": [
    "def append_kvp(et, data):\n",
    "    kvp = ET.Element(\"KeyValPair_PI\")\n",
    "    sslen = ET.Element(\"ssLen\")\n",
    "    sslen.text = str(len(data))\n",
    "    kvp.append(sslen)\n",
    "    for key in data.keys():\n",
    "        keyWord = ET.Element(\"keyWord\")\n",
    "        keyWord.text = key\n",
    "        kvp.append(keyWord)\n",
    "    for value in data.values():\n",
    "        svalue = ET.Element(\"svalue\")\n",
    "        svalue.text = value\n",
    "        kvp.append(svalue)\n",
    "    et.append(kvp)\n",
    "    return et\n",
    "\n",
    "def append_iivp(et, data):\n",
    "    iivp = ET.Element(\"InxIvalPair_PI\")\n",
    "    sslen = ET.Element(\"iiLen\")\n",
    "    sslen.text = str(len(data))\n",
    "    iivp.append(sslen)\n",
    "    for key in data.keys():\n",
    "        inx = ET.Element(\"inx\")\n",
    "        inx.text = key\n",
    "        iivp.append(inx)\n",
    "    for value in data.values():\n",
    "        ivalue = ET.Element(\"ivalue\")\n",
    "        ivalue.text = value\n",
    "        iivp.append(ivalue)\n",
    "    et.append(iivp)\n",
    "    return et\n",
    "\n",
    "def append_ivp(et, data):\n",
    "    ivp = ET.Element(\"InxValPair_PI\")\n",
    "    islen = ET.Element(\"isLen\")\n",
    "    islen.text = str(len(data))\n",
    "    ivp.append(islen)\n",
    "    for key in data.keys():\n",
    "        inx = ET.Element(\"inx\")\n",
    "        inx.text = key\n",
    "        ivp.append(inx)\n",
    "    for value in data.values():\n",
    "        svalue = ET.Element(\"svalue\")\n",
    "        svalue.text = value\n",
    "        ivp.append(svalue)\n",
    "    et.append(ivp)\n",
    "    return et"
   ]
  },
  {
   "cell_type": "code",
   "execution_count": 23,
   "id": "a1ca6cc3",
   "metadata": {},
   "outputs": [
    {
     "name": "stdout",
     "output_type": "stream",
     "text": [
      "b'<DataObjInp_PI><objPath>/tempZone/home/rods</objPath><createMode>0</createMode><openFlags>0</openFlags><offset>0</offset><dataSize>0</dataSize><numThreads>0</numThreads><oprType>0</oprType><KeyValPair_PI><ssLen>0</ssLen></KeyValPair_PI></DataObjInp_PI>'\n",
      "b'\\x00\\x00\\x00\\x86'\n"
     ]
    }
   ],
   "source": [
    "OBJ_STAT_AN = 633\n",
    "\n",
    "stat_obj_inp = data_obj_inp(\"/tempZone/home/rods\") \n",
    "h = header(HeaderType.RODS_API_REQ.value, stat_obj_inp, int_info=OBJ_STAT_AN)\n",
    "\n",
    "send_header(h, conn)\n",
    "send_msg(stat_obj_inp, conn)"
   ]
  },
  {
   "cell_type": "markdown",
   "id": "4b613aca",
   "metadata": {},
   "source": [
    "If everything has gone smoothely, you should receive a `RodsObjStat_PI` from the server. That `objType` is 2 tells us that the thing we stat'd was a collection. Since collections are purely virtual objects, `objSize` is 0."
   ]
  },
  {
   "cell_type": "code",
   "execution_count": 24,
   "id": "45e912ca",
   "metadata": {},
   "outputs": [
    {
     "name": "stdout",
     "output_type": "stream",
     "text": [
      "HEADER LEN: [141]\n",
      "HEADER: [<MsgHeader_PI>\n",
      "<type>RODS_API_REPLY</type>\n",
      "<msgLen>275</msgLen>\n",
      "<errorLen>0</errorLen>\n",
      "<bsLen>0</bsLen>\n",
      "<intInfo>2</intInfo>\n",
      "</MsgHeader_PI>\n",
      "]\n",
      "MSG: [<RodsObjStat_PI>\n",
      "<objSize>0</objSize>\n",
      "<objType>2</objType>\n",
      "<dataMode>0</dataMode>\n",
      "<dataId>10010</dataId>\n",
      "<chksum></chksum>\n",
      "<ownerName>rods</ownerName>\n",
      "<ownerZone>tempZone</ownerZone>\n",
      "<createTime>01689689344</createTime>\n",
      "<modifyTime>01689689352</modifyTime>\n",
      "</RodsObjStat_PI>\n",
      "]\n"
     ]
    }
   ],
   "source": [
    "h, m = recv(conn)"
   ]
  },
  {
   "cell_type": "markdown",
   "id": "e107fbff",
   "metadata": {},
   "source": [
    "Now we know our target is there. Let's go ahead and read its contents. This happens through a genQuery. For details about the first-generation genQuery API, see [here](https://github.com/irods/irods_docs/blob/main/docs/developers/library_examples.md#querying-the-catalog-using-general-queries). For information about the GenQuery2 interface (under development as of time of writing), see [here](https://www.youtube.com/watch?v=3dR_JoGA6wA&t=654s&ab_channel=TheiRODSConsortium)."
   ]
  },
  {
   "cell_type": "code",
   "execution_count": 25,
   "id": "e5047ece",
   "metadata": {},
   "outputs": [],
   "source": [
    "GEN_QUERY_AN = 702\n",
    "\n",
    "def gen_query(\n",
    "    max_rows=256,\n",
    "    continue_inx=0,\n",
    "    partial_start_index=0,\n",
    "    options=0,\n",
    "    cond_input={},\n",
    "    select_inp={},\n",
    "    sql_cond_inp={}\n",
    ") -> bytes:\n",
    "    ret = ET.fromstring(f\"\"\"\n",
    "    <GenQueryInp_PI>\n",
    "        <maxRows>{max_rows}</maxRows>\n",
    "        <continueInx>{continue_inx}</continueInx>\n",
    "        <partialStartIndex>{partial_start_index}</partialStartIndex>\n",
    "        <options>{options}</options>\n",
    "    </GenQueryInp_PI>\n",
    "    \"\"\")\n",
    "    ret = append_kvp(ret, cond_input)\n",
    "    ret = append_iivp(ret, select_inp)\n",
    "    ret = append_ivp(ret, sql_cond_inp)\n",
    "    \n",
    "    return ET.tostring(ret).decode(\"utf-8\").replace(\" \", \"\").replace(\"\\n\", \"\").encode(\"utf-8\")"
   ]
  },
  {
   "cell_type": "code",
   "execution_count": 31,
   "id": "753dafff",
   "metadata": {},
   "outputs": [
    {
     "name": "stdout",
     "output_type": "stream",
     "text": [
      "b\"<GenQueryInp_PI><maxRows>256</maxRows><continueInx>0</continueInx><partialStartIndex>0</partialStartIndex><options>0</options><KeyValPair_PI><ssLen>1</ssLen><keyWord>zone</keyWord><svalue>tempZone</svalue></KeyValPair_PI><InxIvalPair_PI><iiLen>1</iiLen><inx>506</inx><ivalue>1</ivalue></InxIvalPair_PI><InxValPair_PI><isLen>1</isLen><inx>501</inx><svalue>='/tempZone/home/rods'</svalue></InxValPair_PI></GenQueryInp_PI>\"\n"
     ]
    }
   ],
   "source": [
    "gq = gen_query(\n",
    "    cond_input={\"zone\":\"tempZone\"},\n",
    "    select_inp={\"506\":\"1\"},\n",
    "    sql_cond_inp={\"501\":\"= '/tempZone/home/rods'\"}\n",
    ")\n",
    "print(gq)"
   ]
  },
  {
   "cell_type": "markdown",
   "id": "15680582",
   "metadata": {},
   "source": [
    "*NB:* It might be easier to make sense of the server's response if you make sure the directory you're about to stat is populated."
   ]
  },
  {
   "cell_type": "markdown",
   "id": "62cd4285",
   "metadata": {},
   "source": [
    "One quick thing before we send this over to the server: the iRODS dialect of XML has a few quirks related to encoding special characters. Some special characters it does not escape at all. For others, it uses a non-standard encoding. For that reason, we'll need to write some functions that translate between standard XML and iRODS XML."
   ]
  },
  {
   "cell_type": "code",
   "execution_count": 32,
   "id": "45fbd5b2",
   "metadata": {},
   "outputs": [
    {
     "name": "stdout",
     "output_type": "stream",
     "text": [
      "XML_BYTES:[ b\"<GenQueryInp_PI><maxRows>256</maxRows><continueInx>0</continueInx><partialStartIndex>0</partialStartIndex><options>0</options><KeyValPair_PI><ssLen>1</ssLen><keyWord>zone</keyWord><svalue>tempZone</svalue></KeyValPair_PI><InxIvalPair_PI><iiLen>1</iiLen><inx>506</inx><ivalue>1</ivalue></InxIvalPair_PI><InxValPair_PI><isLen>1</isLen><inx>501</inx><svalue>='/tempZone/home/rods'</svalue></InxValPair_PI></GenQueryInp_PI>\" ]\n"
     ]
    }
   ],
   "source": [
    "standard_to_irods = {\n",
    "  b\"&#34;\":b\"&quot;\",\n",
    "    \n",
    "  b\"&#39\":b\"&apos;\",\n",
    "    \n",
    "  b\"&#x9;\":b\"\\t\",\n",
    "    \n",
    "  b\"&#xD;\":b\"\\r\",\n",
    "    \n",
    "  b\"&#xA;\":b\"\\n\",\n",
    "    \n",
    "  b\"`\"    :b\"&apos\"\n",
    "}\n",
    "\n",
    "\n",
    "\n",
    "def translate_xml_to_irods_dialect(xml_bytes):\n",
    "    output = b''\n",
    "    print(\"XML_BYTES:[\", xml_bytes,\"]\")\n",
    "    return xml_bytes\n",
    "    while len(xml_bytes) > 0:\n",
    "        for prefix in standard_to_irods:\n",
    "            if len(xml_bytes) == 0:\n",
    "                break\n",
    "            if xml_bytes.startswith(prefix):\n",
    "                output += standard_to_irods[prefix]\n",
    "                xml_bytes = xml_bytes[len(prefix):]\n",
    "            else:\n",
    "                output += bytes(xml_bytes[0])\n",
    "                xml_bytes = xml_bytes[1:]\n",
    "    return output\n",
    "    \n",
    "gq = translate_xml_to_irods_dialect(gq)\n",
    "h = header(HeaderType.RODS_API_REQ.value, gq, int_info=GEN_QUERY_AN)"
   ]
  },
  {
   "cell_type": "code",
   "execution_count": 28,
   "id": "3981b31a",
   "metadata": {},
   "outputs": [],
   "source": [
    "send_header(h, conn)\n",
    "send_msg(gq, conn)"
   ]
  },
  {
   "cell_type": "markdown",
   "id": "1c3f39c1",
   "metadata": {},
   "source": [
    "The results f"
   ]
  },
  {
   "cell_type": "code",
   "execution_count": null,
   "id": "4c14e19e",
   "metadata": {},
   "outputs": [],
   "source": [
    "h, m = recv(conn)"
   ]
  },
  {
   "cell_type": "code",
   "execution_count": 51,
   "id": "5223765b",
   "metadata": {},
   "outputs": [],
   "source": [
    "def disconnect(sock):\n",
    "    sock.send(\n",
    "        header(HeaderType.RODS_DISCONNECT.value, \"\") ## Empty string so msgLen is 0\n",
    "    )"
   ]
  },
  {
   "cell_type": "code",
   "execution_count": 53,
   "id": "a2778b85",
   "metadata": {},
   "outputs": [
    {
     "ename": "BrokenPipeError",
     "evalue": "[Errno 32] Broken pipe",
     "output_type": "error",
     "traceback": [
      "\u001b[0;31m---------------------------------------------------------------------------\u001b[0m",
      "\u001b[0;31mBrokenPipeError\u001b[0m                           Traceback (most recent call last)",
      "Cell \u001b[0;32mIn[53], line 1\u001b[0m\n\u001b[0;32m----> 1\u001b[0m \u001b[43mdisconnect\u001b[49m\u001b[43m(\u001b[49m\u001b[43mconn\u001b[49m\u001b[43m)\u001b[49m\n\u001b[1;32m      2\u001b[0m conn\u001b[38;5;241m.\u001b[39mclose()\n",
      "Cell \u001b[0;32mIn[51], line 2\u001b[0m, in \u001b[0;36mdisconnect\u001b[0;34m(sock)\u001b[0m\n\u001b[1;32m      1\u001b[0m \u001b[38;5;28;01mdef\u001b[39;00m \u001b[38;5;21mdisconnect\u001b[39m(sock):\n\u001b[0;32m----> 2\u001b[0m     \u001b[43msock\u001b[49m\u001b[38;5;241;43m.\u001b[39;49m\u001b[43msend\u001b[49m\u001b[43m(\u001b[49m\n\u001b[1;32m      3\u001b[0m \u001b[43m        \u001b[49m\u001b[43mheader\u001b[49m\u001b[43m(\u001b[49m\u001b[43mHeaderType\u001b[49m\u001b[38;5;241;43m.\u001b[39;49m\u001b[43mRODS_DISCONNECT\u001b[49m\u001b[38;5;241;43m.\u001b[39;49m\u001b[43mvalue\u001b[49m\u001b[43m,\u001b[49m\u001b[43m \u001b[49m\u001b[38;5;124;43m\"\u001b[39;49m\u001b[38;5;124;43m\"\u001b[39;49m\u001b[43m)\u001b[49m\u001b[43m \u001b[49m\u001b[38;5;66;43;03m## Empty string so msgLen is 0\u001b[39;49;00m\n\u001b[1;32m      4\u001b[0m \u001b[43m    \u001b[49m\u001b[43m)\u001b[49m\n",
      "\u001b[0;31mBrokenPipeError\u001b[0m: [Errno 32] Broken pipe"
     ]
    }
   ],
   "source": [
    "disconnect(conn)\n",
    "conn.close()"
   ]
  },
  {
   "cell_type": "code",
   "execution_count": null,
   "id": "4131feac",
   "metadata": {},
   "outputs": [],
   "source": []
  }
 ],
 "metadata": {
  "kernelspec": {
   "display_name": "Python 3 (ipykernel)",
   "language": "python",
   "name": "python3"
  },
  "language_info": {
   "codemirror_mode": {
    "name": "ipython",
    "version": 3
   },
   "file_extension": ".py",
   "mimetype": "text/x-python",
   "name": "python",
   "nbconvert_exporter": "python",
   "pygments_lexer": "ipython3",
   "version": "3.11.1"
  }
 },
 "nbformat": 4,
 "nbformat_minor": 5
}

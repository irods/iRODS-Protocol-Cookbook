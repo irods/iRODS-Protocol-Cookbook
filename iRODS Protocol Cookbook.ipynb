{
 "cells": [
  {
   "cell_type": "markdown",
   "id": "f38abb02",
   "metadata": {},
   "source": [
    "# IRODS Protocol Cookbook\n",
    "\n",
    "This notebook will provide example implementations of key \n",
    "operations in the iRODS protocol. Read from the beginnging or use this table of contents to skip to the section that interests you. Once you've jumped to that spot, make sure the cell with the anchor is selected and run `Cell > Run All Above`.\n",
    "\n",
    "## Table of Contents\n",
    "\n",
    "* [Handshake](#handshake)\n",
    "* [Authentication](#authentication)\n",
    "* [ils](#ils)\n",
    "    - [Stat a collection](#stat_coll)\n",
    "    - [Querying for the Data Objects in a Container](#data_objects_query)"
   ]
  },
  {
   "cell_type": "code",
   "execution_count": 1,
   "id": "dc628c5c",
   "metadata": {},
   "outputs": [],
   "source": [
    "## We'll be doing this from scratch, so all imports will come from \n",
    "## the Python standard library or 3rd-party tools\n",
    "import socket\n",
    "import struct\n",
    "import base64\n",
    "import json\n",
    "import hashlib\n",
    "import time\n",
    "import enum\n",
    "import xml.etree.ElementTree as ET\n",
    "from enum import Enum\n",
    "\n",
    "import pandas as pd"
   ]
  },
  {
   "cell_type": "markdown",
   "id": "0c91015d",
   "metadata": {},
   "source": [
    "This tutorial assumes you have deployed iRODS in Docker using\n",
    "the script stand_it_up.py from the iRODS Testing Environment, \n",
    "which can be found on Github [here](https://github.com/irods/irods_testing_environment)\n",
    "To find the IP address associated with your Docker container, you can run this one-liner:\n",
    "```bash\n",
    "docker inspect   -f '{{range.NetworkSettings.Networks}}{{.IPAddress}}{{end}}' ubuntu-2004-postgres-1012_irods-catalog-provider_1\n",
    "```\n",
    "Otherwise, if want to try this out on a real-world zone, insert that zone's hostname here."
   ]
  },
  {
   "cell_type": "code",
   "execution_count": 2,
   "id": "74b0de59",
   "metadata": {},
   "outputs": [],
   "source": [
    "HOST = \"172.19.0.3\""
   ]
  },
  {
   "cell_type": "code",
   "execution_count": 3,
   "id": "a8c1d8c2",
   "metadata": {},
   "outputs": [],
   "source": [
    "PORT = 1247 ## This is the standard iRODS port\n",
    "MAX_PASSWORD_LENGTH = 50 ## This constant comes \n",
    "                         ## from the internals \n",
    "                         ## of the iRODS server\n",
    "API_TABLE = {\n",
    "    \"AUTHENTICATION_APN\":110000, ## The API number for the 4.3.0 auth framework\n",
    "    \"OBJ_STAT_AN\":633,\n",
    "    \"GEN_QUERY_AN\":702,\n",
    "    \"DATA_OBJ_PUT_AN\": 606\n",
    "}\n",
    "\n",
    "## These provide indices into the catalog,\n",
    "## which allows the iRODS server to directly query the SQL server\n",
    "CATALOG_INDEX_TABLE = {\n",
    "    \"COL_COLL_NAME\"       :\"501\",\n",
    "    \"COL_D_DATA_ID\"       :\"401\",\n",
    "    \"COL_DATA_NAME\"       :\"403\",\n",
    "    \"COL_COLL_INHERITANCE\":\"506\",\n",
    "    \"COL_DATA_MODE\"       :\"421\",\n",
    "    \"COL_DATA_SIZE\"       :\"407\",\n",
    "    \"COL_D_MODIFY_TIME\"   :\"420\",\n",
    "    \"COL_D_CREATE_TIME\"   :\"419\",\n",
    "}\n",
    "CATALOG_REVERSE_INDEX_TABLE = {\n",
    "    v:k for k,v in CATALOG_INDEX_TABLE.items()\n",
    "}"
   ]
  },
  {
   "cell_type": "markdown",
   "id": "39d8eec8",
   "metadata": {},
   "source": [
    "First, we're going to write a small library of functions that do some \n",
    "of the dirty work. \n",
    "Feel free to skip to [here](#start_of_real_work), where we start using this library to send\n",
    "and read messages, referring to this part to figure out how\n",
    "the part you're interested in was implemented."
   ]
  },
  {
   "cell_type": "code",
   "execution_count": 4,
   "id": "3689fe9d",
   "metadata": {},
   "outputs": [],
   "source": [
    "## We can define these in an enum since \n",
    "## header types are a closed class and are not sensitive to any\n",
    "## particular API.\n",
    "class HeaderType(Enum):\n",
    "    RODS_CONNECT = \"RODS_CONNECT\"\n",
    "    RODS_DISCONNECT = \"RODS_DISCONNECT\"\n",
    "    RODS_API_REQ = \"RODS_API_REQ\"\n",
    "    RODS_API_REPLY = \"RODS_API_REPLY\"\n",
    "    RODS_VERSION = \"RODS_VERSION\"\n",
    "\n",
    "def header(header_type: HeaderType, msg: bytes, \n",
    "           error_len=0, bs_len=0, int_info=0) -> bytes:\n",
    "    return f\"\"\"\n",
    "        <MsgHeader_PI>\n",
    "            <type>{header_type}</type>\n",
    "            <msgLen>{len(msg)}</msgLen>\n",
    "            <errorLen>{error_len}</errorLen>\n",
    "            <bsLen>{bs_len}</bsLen>\n",
    "            <intInfo>{int_info}</intInfo>\n",
    "        </MsgHeader_PI>\n",
    "        \"\"\".replace(' ', '').replace('\\n', '').encode('utf-8') ## The protocol is whitespace-insensitive,\n",
    "                                                               ## but I removed them here for cleanliness\n",
    "                                                               ## and efficiency for when this gets pushed\n",
    "                                                               ## through the pipe."
   ]
  },
  {
   "cell_type": "code",
   "execution_count": 5,
   "id": "399ab08f",
   "metadata": {},
   "outputs": [],
   "source": [
    "def send_header(header: bytes, sock: socket) -> None:\n",
    "    header_len = int.to_bytes(len(header), byteorder='big', length=4) ## The first part of all iRODS messages\n",
    "                                                                      ## must be 4 bytes indicating how long\n",
    "                                                                      ## the header is in bytes. These bytes\n",
    "                                                                      ## and the entire integer must be transmitted\n",
    "                                                                      ## in big-endian order\n",
    "    print(header_len)\n",
    "    sock.sendall(header_len)\n",
    "    sock.sendall(header)\n",
    "    \n",
    "def send_msg(msg: bytes, sock: socket) -> None:\n",
    "    sock.sendall(msg)\n",
    "    \n",
    "def recv(sock: socket) -> [ET, ET]:\n",
    "    header_len = int.from_bytes(sock.recv(4), byteorder='big')\n",
    "    print(f\"HEADER LEN: [{header_len}]\")\n",
    "    header = sock.recv(header_len).decode(\"utf-8\")\n",
    "    print(f\"HEADER: [{header}]\")\n",
    "    \n",
    "    msg = sock.recv(\n",
    "        int(ET.fromstring(header).find(\"msgLen\").text)).decode(\"utf-8\")\n",
    "    print(f\"MSG: [{msg}]\")\n",
    "    \n",
    "    return ET.fromstring(header), ET.fromstring(msg)"
   ]
  },
  {
   "cell_type": "markdown",
   "id": "fe23f0bf",
   "metadata": {},
   "source": [
    "## Start of the \"Real Work\" <a class=\"anchor\" id=\"start_of_real_work\"></a>\n",
    "Note that even if you are using a plugin for authentication, iRODS may still refer to the information in the StartupPack_PI during authentication. If you are experiencing bugs during that step, check your Startup Pack as well as the structures associated with your specific plugin."
   ]
  },
  {
   "cell_type": "code",
   "execution_count": 6,
   "id": "c003556b",
   "metadata": {},
   "outputs": [],
   "source": [
    "class IrodsProt(Enum):\n",
    "    NATIVE_PROT = 0\n",
    "    XML_PROT = 1\n",
    "\n",
    "## Now, let's start the connection process. First, we need an easy way to create the StartupPack.\n",
    "def startup_pack(irods_prot=IrodsProt.XML_PROT.value,\n",
    "                 reconn_flag=0, \n",
    "                 connect_cnt=0,\n",
    "                 proxy_user=None,\n",
    "                 proxy_rcat_zone=None,\n",
    "                 client_user=\"rods\", \n",
    "                 client_rcat_zone=\"tempZone\", \n",
    "                 rel_version=\"4.3.0\", \n",
    "                 api_version=\"d\", ## This MUST ALWAYS be \"d.\" This value has been hardcoded into iRODS\n",
    "                                  ## since very early days.\n",
    "                 option=None ## This option controls, among other things,whether SSL negotiation is required.\n",
    "                ) -> bytes:\n",
    "    return f\"\"\"\n",
    "    <StartupPack_PI>\n",
    "             <irodsProt>{irods_prot}</irodsProt>\n",
    "             <reconnFlag>{reconn_flag}</reconnFlag>\n",
    "             <connectCnt>{connect_cnt}</connectCnt>\n",
    "             <proxyUser>{proxy_user or client_user}</proxyUser>\n",
    "             <proxyRcatZone>{proxy_rcat_zone or client_rcat_zone}</proxyRcatZone>\n",
    "             <clientUser>{client_user}</clientUser>\n",
    "             <clientRcatZone>{client_rcat_zone}</clientRcatZone>\n",
    "             <relVersion>rods{rel_version}</relVersion>\n",
    "             <apiVersion>{api_version}</apiVersion>\n",
    "             <option>{option}</option>\n",
    "    </StartupPack_PI>\n",
    "    \"\"\".replace(\" \", \"\").replace(\"\\n\", \"\").encode(\"utf-8\")"
   ]
  },
  {
   "cell_type": "markdown",
   "id": "507545b9",
   "metadata": {},
   "source": [
    "We're going to be sending raw bytes over a socket, so let's create one\n",
    "If at some point the Notebook stops working, remember\n",
    "to manually close the socket."
   ]
  },
  {
   "cell_type": "code",
   "execution_count": 7,
   "id": "2c0748a4",
   "metadata": {},
   "outputs": [],
   "source": [
    "conn = socket.socket(socket.AF_INET, socket.SOCK_STREAM)\n",
    "conn.connect((HOST, PORT)) "
   ]
  },
  {
   "cell_type": "markdown",
   "id": "b1af7b30",
   "metadata": {},
   "source": [
    "## Handshake <a class=\"anchor\" id=\"handshake\"></a>"
   ]
  },
  {
   "cell_type": "code",
   "execution_count": 8,
   "id": "c4fc1ff5",
   "metadata": {},
   "outputs": [
    {
     "data": {
      "text/plain": [
       "b'<StartupPack_PI><irodsProt>1</irodsProt><reconnFlag>0</reconnFlag><connectCnt>0</connectCnt><proxyUser>rods</proxyUser><proxyRcatZone>tempZone</proxyRcatZone><clientUser>rods</clientUser><clientRcatZone>tempZone</clientRcatZone><relVersion>rods4.3.0</relVersion><apiVersion>d</apiVersion><option>None</option></StartupPack_PI>'"
      ]
     },
     "execution_count": 8,
     "metadata": {},
     "output_type": "execute_result"
    }
   ],
   "source": [
    "sp = startup_pack()\n",
    "sp"
   ]
  },
  {
   "cell_type": "code",
   "execution_count": 9,
   "id": "a4c10fc2",
   "metadata": {},
   "outputs": [
    {
     "data": {
      "text/plain": [
       "b'<MsgHeader_PI><type>RODS_CONNECT</type><msgLen>326</msgLen><errorLen>0</errorLen><bsLen>0</bsLen><intInfo>0</intInfo></MsgHeader_PI>'"
      ]
     },
     "execution_count": 9,
     "metadata": {},
     "output_type": "execute_result"
    }
   ],
   "source": [
    "h = header(HeaderType.RODS_CONNECT.value, sp)\n",
    "h"
   ]
  },
  {
   "cell_type": "code",
   "execution_count": 10,
   "id": "46a98718",
   "metadata": {},
   "outputs": [
    {
     "name": "stdout",
     "output_type": "stream",
     "text": [
      "b'\\x00\\x00\\x00\\x84'\n"
     ]
    }
   ],
   "source": [
    "send_header(h, conn)\n",
    "send_msg(sp, conn)"
   ]
  },
  {
   "cell_type": "code",
   "execution_count": 11,
   "id": "156aa794",
   "metadata": {},
   "outputs": [
    {
     "name": "stdout",
     "output_type": "stream",
     "text": [
      "HEADER LEN: [139]\n",
      "HEADER: [<MsgHeader_PI>\n",
      "<type>RODS_VERSION</type>\n",
      "<msgLen>182</msgLen>\n",
      "<errorLen>0</errorLen>\n",
      "<bsLen>0</bsLen>\n",
      "<intInfo>0</intInfo>\n",
      "</MsgHeader_PI>\n",
      "]\n",
      "MSG: [<Version_PI>\n",
      "<status>0</status>\n",
      "<relVersion>rods4.3.0</relVersion>\n",
      "<apiVersion>d</apiVersion>\n",
      "<reconnPort>0</reconnPort>\n",
      "<reconnAddr></reconnAddr>\n",
      "<cookie>400</cookie>\n",
      "</Version_PI>\n",
      "]\n"
     ]
    }
   ],
   "source": [
    "## In this Version_PI, status of 0 lets us know that negotiation has been successful.\n",
    "h, msg = recv(conn)"
   ]
  },
  {
   "cell_type": "markdown",
   "id": "a2aa8f4a",
   "metadata": {},
   "source": [
    "## Authentication <a class=\"anchor\" id=\"authentication\"></a>\n",
    "\n",
    "Next up, we need to authenticate using our API of choice. \n",
    "Since this is a basic cookbook for 4.3.0, we'll be using the new \n",
    "auth framework's port of native authentication.\n",
    "This API works by exchanging binary buffers between client and server.\n",
    "Since XML must be valid UTF-8, this binary data MUST be base64-encoded."
   ]
  },
  {
   "cell_type": "code",
   "execution_count": 12,
   "id": "51a326c6",
   "metadata": {},
   "outputs": [],
   "source": [
    "def encode_dict_as_base64_json(d: dict): \n",
    "    return base64.b64encode(\n",
    "        json.dumps(d).encode('utf-8'))"
   ]
  },
  {
   "cell_type": "markdown",
   "id": "05d82a1f",
   "metadata": {},
   "source": [
    "The payload is decoded because otherwise Python will \n",
    "add extra characters to give a string representation of the bytes object"
   ]
  },
  {
   "cell_type": "code",
   "execution_count": 13,
   "id": "60f63630",
   "metadata": {},
   "outputs": [],
   "source": [
    "def read_base64_into_json(bsix: bytes, trunc=False) -> dict:\n",
    "    decoded = base64.b64decode(bsix).decode('utf-8')\n",
    "    return json.loads(decoded[:-1]) if trunc else json.loads(decoded)\n",
    "\n",
    "def bin_bytes_buf(payload: dict) -> bytes:\n",
    "    payload = encode_dict_as_base64_json(payload)\n",
    "    return f\"\"\"\n",
    "    <BinBytesBuf_PI>\n",
    "        <buflen>{len(payload)}</buflen>\n",
    "        <buf>{payload.decode('utf-8')}</buf>\n",
    "    </BinBytesBuf_PI>\n",
    "    \"\"\".replace(\" \", \"\").replace(\"\\n\",\"\").encode('utf8')"
   ]
  },
  {
   "cell_type": "code",
   "execution_count": 14,
   "id": "710cb919",
   "metadata": {},
   "outputs": [],
   "source": [
    "## Some API-specific parameters\n",
    "auth_ctx = {\n",
    "    \"a_ttl\":\"0\",\n",
    "    \"force_password_prompt\":\"true\",\n",
    "    \"next_operation\":\"auth_agent_auth_request\",\n",
    "    \"scheme\":\"native\",\n",
    "    \"user_name\":\"rods\",\n",
    "    \"zone_name\":\"tempZone\"\n",
    "}"
   ]
  },
  {
   "cell_type": "code",
   "execution_count": 15,
   "id": "d01c8c62",
   "metadata": {},
   "outputs": [
    {
     "name": "stdout",
     "output_type": "stream",
     "text": [
      "b'<BinBytesBuf_PI><buflen>212</buflen><buf>eyJhX3R0bCI6ICIwIiwgImZvcmNlX3Bhc3N3b3JkX3Byb21wdCI6ICJ0cnVlIiwgIm5leHRfb3BlcmF0aW9uIjogImF1dGhfYWdlbnRfYXV0aF9yZXF1ZXN0IiwgInNjaGVtZSI6ICJuYXRpdmUiLCAidXNlcl9uYW1lIjogInJvZHMiLCAiem9uZV9uYW1lIjogInRlbXBab25lIn0=</buf></BinBytesBuf_PI>'\n",
      "b'\\x00\\x00\\x00\\x89'\n"
     ]
    }
   ],
   "source": [
    "initial_auth_msg = bin_bytes_buf(auth_ctx)\n",
    "print(initial_auth_msg)\n",
    "h = header(HeaderType.RODS_API_REQ.value, \n",
    "           initial_auth_msg, \n",
    "           int_info=API_TABLE[\"AUTHENTICATION_APN\"])\n",
    "send_header(h, conn)\n",
    "send_msg(initial_auth_msg, conn)"
   ]
  },
  {
   "cell_type": "code",
   "execution_count": 16,
   "id": "7c166a29",
   "metadata": {},
   "outputs": [
    {
     "name": "stdout",
     "output_type": "stream",
     "text": [
      "HEADER LEN: [141]\n",
      "HEADER: [<MsgHeader_PI>\n",
      "<type>RODS_API_REPLY</type>\n",
      "<msgLen>380</msgLen>\n",
      "<errorLen>0</errorLen>\n",
      "<bsLen>0</bsLen>\n",
      "<intInfo>0</intInfo>\n",
      "</MsgHeader_PI>\n",
      "]\n",
      "MSG: [<BinBytesBuf_PI>\n",
      "<buflen>232</buflen>\n",
      "<buf>eyJhX3R0bCI6IjAiLCJmb3JjZV9wYXNzd29yZF9wcm9tcHQiOiJ0cnVlIiwibmV4dF9vcGVyYXRpb24iOiJhdXRoX2FnZW50X2F1dGhfcmVxdWVzdCIsInJlcXVlc3RfcmVzdWx0IjoiMjA0MWVlYmEwZThhNGQ1ZjY3OWZhNjk1MWZmY2ZjMDY0MzIwOTdkY2FlMzg3NWVmNWQ5ZmI2YWY2MDNmOTcyYiIsInNjaGVtZSI6Im5hdGl2ZSIsInVzZXJfbmFtZSI6InJvZHMiLCJ6b25lX25hbWUiOiJ0ZW1wWm9uZSJ9AA==</buf>\n",
      "</BinBytesBuf_PI>\n",
      "]\n"
     ]
    }
   ],
   "source": [
    "h, m = recv(conn)"
   ]
  },
  {
   "cell_type": "markdown",
   "id": "8061bd75",
   "metadata": {},
   "source": [
    "If you were writing a real client library or application, you would want to check intInfo for error codes\n",
    "so you could respond appropriately. Here, we're going to move on blissfully unaware."
   ]
  },
  {
   "cell_type": "code",
   "execution_count": 17,
   "id": "df74a610",
   "metadata": {},
   "outputs": [
    {
     "name": "stdout",
     "output_type": "stream",
     "text": [
      "REQUEST RESULT: [2041eeba0e8a4d5f679fa6951ffcfc06432097dcae3875ef5d9fb6af603f972b]\n"
     ]
    }
   ],
   "source": [
    "auth_ctx = read_base64_into_json(m.find(\"buf\").text, trunc=True)\n",
    "request_result = auth_ctx[ 'request_result']\n",
    "print(f\"REQUEST RESULT: [{request_result}]\")"
   ]
  },
  {
   "cell_type": "code",
   "execution_count": 18,
   "id": "fe416687",
   "metadata": {},
   "outputs": [
    {
     "name": "stdout",
     "output_type": "stream",
     "text": [
      "b'<BinBytesBuf_PI><buflen>380</buflen><buf>eyJhX3R0bCI6ICIwIiwgImZvcmNlX3Bhc3N3b3JkX3Byb21wdCI6ICJ0cnVlIiwgIm5leHRfb3BlcmF0aW9uIjogImF1dGhfYWdlbnRfYXV0aF9yZXNwb25zZSIsICJyZXF1ZXN0X3Jlc3VsdCI6ICIyMDQxZWViYTBlOGE0ZDVmNjc5ZmE2OTUxZmZjZmMwNjQzMjA5N2RjYWUzODc1ZWY1ZDlmYjZhZjYwM2Y5NzJiIiwgInNjaGVtZSI6ICJuYXRpdmUiLCAidXNlcl9uYW1lIjogInJvZHMiLCAiem9uZV9uYW1lIjogInRlbXBab25lIiwgImRpZ2VzdCI6ICJqV0xkNEFYb0U2RVdWVFNJd29yRkRBPT0ifQ==</buf></BinBytesBuf_PI>'\n"
     ]
    }
   ],
   "source": [
    "def pad_password(pw: str) -> bytes:\n",
    "    return struct.pack(\"%ds\" % MAX_PASSWORD_LENGTH, pw.encode(\"utf-8\").strip())\n",
    "\n",
    "## Native auth specific operations\n",
    "m = hashlib.md5()\n",
    "m.update(request_result.encode(\"utf-8\"))\n",
    "m.update(pad_password(\"rods\"))\n",
    "digest = m.digest()\n",
    "encoded_digest = base64.b64encode(digest).decode('utf-8')\n",
    "auth_ctx['digest'] = encoded_digest\n",
    "auth_ctx['next_operation'] = 'auth_agent_auth_response'\n",
    "challenge_response = bin_bytes_buf(auth_ctx)\n",
    "print(challenge_response)"
   ]
  },
  {
   "cell_type": "code",
   "execution_count": 19,
   "id": "95b977dc",
   "metadata": {},
   "outputs": [
    {
     "name": "stdout",
     "output_type": "stream",
     "text": [
      "b'\\x00\\x00\\x00\\x89'\n"
     ]
    }
   ],
   "source": [
    "h = header(HeaderType.RODS_API_REQ.value, \n",
    "           challenge_response, \n",
    "           int_info=API_TABLE[\"AUTHENTICATION_APN\"])\n",
    "send_header(h, conn)\n",
    "send_msg(challenge_response, conn)"
   ]
  },
  {
   "cell_type": "markdown",
   "id": "6ae846c5",
   "metadata": {},
   "source": [
    "Once again, an `intInfo` of 0 is the auth framework's way of telling us that we've successfully authenticated. Decode the buf frame base64 if you'd like to double check the state of the auth context."
   ]
  },
  {
   "cell_type": "code",
   "execution_count": 20,
   "id": "c52e4b70",
   "metadata": {},
   "outputs": [
    {
     "name": "stdout",
     "output_type": "stream",
     "text": [
      "HEADER LEN: [141]\n",
      "HEADER: [<MsgHeader_PI>\n",
      "<type>RODS_API_REPLY</type>\n",
      "<msgLen>428</msgLen>\n",
      "<errorLen>0</errorLen>\n",
      "<bsLen>0</bsLen>\n",
      "<intInfo>0</intInfo>\n",
      "</MsgHeader_PI>\n",
      "]\n",
      "MSG: [<BinBytesBuf_PI>\n",
      "<buflen>269</buflen>\n",
      "<buf>eyJhX3R0bCI6IjAiLCJkaWdlc3QiOiJqV0xkNEFYb0U2RVdWVFNJd29yRkRBPT0iLCJmb3JjZV9wYXNzd29yZF9wcm9tcHQiOiJ0cnVlIiwibmV4dF9vcGVyYXRpb24iOiJhdXRoX2FnZW50X2F1dGhfcmVzcG9uc2UiLCJyZXF1ZXN0X3Jlc3VsdCI6IjIwNDFlZWJhMGU4YTRkNWY2NzlmYTY5NTFmZmNmYzA2NDMyMDk3ZGNhZTM4NzVlZjVkOWZiNmFmNjAzZjk3MmIiLCJzY2hlbWUiOiJuYXRpdmUiLCJ1c2VyX25hbWUiOiJyb2RzIiwiem9uZV9uYW1lIjoidGVtcFpvbmUifQA=</buf>\n",
      "</BinBytesBuf_PI>\n",
      "]\n"
     ]
    }
   ],
   "source": [
    "h, m = recv(conn)"
   ]
  },
  {
   "cell_type": "markdown",
   "id": "e23c2e16",
   "metadata": {},
   "source": [
    "# ils <a class=\"anchor\" id=\"ils\"></a>\n",
    "Next, let's perform an `ils`. The iCommands implementation does a little bit of verification, so we'll see how to perform object stat-ing, genQuery, and specQuery here."
   ]
  },
  {
   "cell_type": "markdown",
   "id": "c254487b",
   "metadata": {},
   "source": [
    "## Stat a Collection <a class=\"anchor\" id=\"stat_coll\"></a>\n",
    "This step is necessary to make sure that the directory about to be ls'd actually exists."
   ]
  },
  {
   "cell_type": "markdown",
   "id": "9da14a4a",
   "metadata": {},
   "source": [
    "First, we'll have to generate a `DataObjInp_PI`. This is a generic message type used for all sorts of operations. It also contains a `KeyValPair_PI`, which is an important data structure in the iRODS protocol. Although it cannot be sent on its own, it is a very important vehicle for parameters. Internally, this `KeyValPair_PI` is a cond_input structure."
   ]
  },
  {
   "cell_type": "code",
   "execution_count": 21,
   "id": "83284bcb",
   "metadata": {},
   "outputs": [],
   "source": [
    "def data_obj_inp(\n",
    "    obj_path,\n",
    "    create_mode=\"0\",\n",
    "    open_flags=\"0\",\n",
    "    offset=\"0\",\n",
    "    data_size=\"0\",\n",
    "    num_threads=\"0\",\n",
    "    opr_type=\"0\",\n",
    "    cond_input= {}\n",
    ") -> bytes:\n",
    "    obj_inp = ET.fromstring(f\"\"\"\n",
    "    <DataObjInp_PI>\n",
    "        <objPath>{obj_path}</objPath>\n",
    "        <createMode>{create_mode}</createMode>\n",
    "        <openFlags>{open_flags}</openFlags>\n",
    "        <offset>{offset}</offset>\n",
    "        <dataSize>{data_size}</dataSize>\n",
    "        <numThreads>{num_threads}</numThreads>\n",
    "        <oprType>{opr_type}</oprType>\n",
    "    </DataObjInp_PI>\n",
    "    \"\"\")\n",
    "    ET.indent(obj_inp)\n",
    "    obj_inp = append_kvp(obj_inp, cond_input)\n",
    "    ret = ET.tostring(obj_inp).decode(\"utf-8\").replace(\"\\n\", \"\").replace(\" \", \"\").encode('utf-8')\n",
    "    print(ret)\n",
    "    return ret"
   ]
  },
  {
   "cell_type": "markdown",
   "id": "670c8f49",
   "metadata": {},
   "source": [
    "Next, we'll need some utility methods. How these work might not be totally obvious, so consider reading ahead and revisiting these once you've seen how it's used in the stat API Call."
   ]
  },
  {
   "cell_type": "code",
   "execution_count": 22,
   "id": "ec16bee2",
   "metadata": {},
   "outputs": [],
   "source": [
    "def append_kvp(et, data):\n",
    "    kvp = ET.Element(\"KeyValPair_PI\")\n",
    "    sslen = ET.Element(\"ssLen\")\n",
    "    sslen.text = str(len(data))\n",
    "    kvp.append(sslen)\n",
    "    for key in data.keys():\n",
    "        keyWord = ET.Element(\"keyWord\")\n",
    "        keyWord.text = key\n",
    "        kvp.append(keyWord)\n",
    "    for value in data.values():\n",
    "        svalue = ET.Element(\"svalue\")\n",
    "        svalue.text = value\n",
    "        kvp.append(svalue)\n",
    "    et.append(kvp)\n",
    "    return et\n",
    "\n",
    "def append_iivp(et, data):\n",
    "    iivp = ET.Element(\"InxIvalPair_PI\")\n",
    "    sslen = ET.Element(\"iiLen\")\n",
    "    sslen.text = str(len(data))\n",
    "    iivp.append(sslen)\n",
    "    for key in data.keys():\n",
    "        inx = ET.Element(\"inx\")\n",
    "        inx.text = key\n",
    "        iivp.append(inx)\n",
    "    for value in data.values():\n",
    "        ivalue = ET.Element(\"ivalue\")\n",
    "        ivalue.text = value\n",
    "        iivp.append(ivalue)\n",
    "    et.append(iivp)\n",
    "    return et\n",
    "\n",
    "def append_ivp(et, data):\n",
    "    ivp = ET.Element(\"InxValPair_PI\")\n",
    "    islen = ET.Element(\"isLen\")\n",
    "    islen.text = str(len(data))\n",
    "    ivp.append(islen)\n",
    "    for key in data.keys():\n",
    "        inx = ET.Element(\"inx\")\n",
    "        inx.text = key\n",
    "        ivp.append(inx)\n",
    "    for value in data.values():\n",
    "        svalue = ET.Element(\"svalue\")\n",
    "        svalue.text = value\n",
    "        ivp.append(svalue)\n",
    "    et.append(ivp)\n",
    "    return et"
   ]
  },
  {
   "cell_type": "code",
   "execution_count": 23,
   "id": "a1ca6cc3",
   "metadata": {},
   "outputs": [
    {
     "name": "stdout",
     "output_type": "stream",
     "text": [
      "b'<DataObjInp_PI><objPath>/tempZone/home/rods</objPath><createMode>0</createMode><openFlags>0</openFlags><offset>0</offset><dataSize>0</dataSize><numThreads>0</numThreads><oprType>0</oprType><KeyValPair_PI><ssLen>0</ssLen></KeyValPair_PI></DataObjInp_PI>'\n",
      "b'\\x00\\x00\\x00\\x86'\n"
     ]
    }
   ],
   "source": [
    "\n",
    "stat_obj_inp = data_obj_inp(\"/tempZone/home/rods\") \n",
    "h = header(HeaderType.RODS_API_REQ.value, \n",
    "           stat_obj_inp, \n",
    "           int_info=API_TABLE[\"OBJ_STAT_AN\"])\n",
    "\n",
    "send_header(h, conn)\n",
    "send_msg(stat_obj_inp, conn)"
   ]
  },
  {
   "cell_type": "markdown",
   "id": "4b613aca",
   "metadata": {},
   "source": [
    "If everything has gone smoothely, you should receive a `RodsObjStat_PI` from the server. That `objType` is 2 tells us that the thing we stat'd was a collection. Since collections are purely virtual objects, `objSize` is 0."
   ]
  },
  {
   "cell_type": "code",
   "execution_count": 24,
   "id": "45e912ca",
   "metadata": {},
   "outputs": [
    {
     "name": "stdout",
     "output_type": "stream",
     "text": [
      "HEADER LEN: [141]\n",
      "HEADER: [<MsgHeader_PI>\n",
      "<type>RODS_API_REPLY</type>\n",
      "<msgLen>275</msgLen>\n",
      "<errorLen>0</errorLen>\n",
      "<bsLen>0</bsLen>\n",
      "<intInfo>2</intInfo>\n",
      "</MsgHeader_PI>\n",
      "]\n",
      "MSG: [<RodsObjStat_PI>\n",
      "<objSize>0</objSize>\n",
      "<objType>2</objType>\n",
      "<dataMode>0</dataMode>\n",
      "<dataId>10010</dataId>\n",
      "<chksum></chksum>\n",
      "<ownerName>rods</ownerName>\n",
      "<ownerZone>tempZone</ownerZone>\n",
      "<createTime>01689858440</createTime>\n",
      "<modifyTime>01689858518</modifyTime>\n",
      "</RodsObjStat_PI>\n",
      "]\n"
     ]
    }
   ],
   "source": [
    "h, m = recv(conn)"
   ]
  },
  {
   "cell_type": "markdown",
   "id": "e107fbff",
   "metadata": {},
   "source": [
    "# Querying for the Data Objects in a Container <a class=\"anchor\" id=\"data_objects_query\"></a>\n",
    "\n",
    "Now we know our target is there. Let's go ahead and read its contents. This happens through a genQuery. For details about the first-generation GenQuery API, see [here](https://github.com/irods/irods_docs/blob/main/docs/developers/library_examples.md#querying-the-catalog-using-general-queries). For information about the GenQuery2 interface (under development as of time of writing), see [here](https://www.youtube.com/watch?v=3dR_JoGA6wA&t=654s&ab_channel=TheiRODSConsortium)."
   ]
  },
  {
   "cell_type": "code",
   "execution_count": 33,
   "id": "e5047ece",
   "metadata": {},
   "outputs": [],
   "source": [
    "def gen_query(\n",
    "    max_rows=256,\n",
    "    continue_inx=0,\n",
    "    partial_start_index=0,\n",
    "    options=0,\n",
    "    cond_input={},\n",
    "    select_inp={},\n",
    "    sql_cond_inp={}\n",
    ") -> bytes:\n",
    "    ret = ET.fromstring(f\"\"\"\n",
    "    <GenQueryInp_PI>\n",
    "        <maxRows>{max_rows}</maxRows>\n",
    "        <continueInx>{continue_inx}</continueInx>\n",
    "        <partialStartIndex>{partial_start_index}</partialStartIndex>\n",
    "        <options>{options}</options>\n",
    "    </GenQueryInp_PI>\n",
    "    \"\"\")\n",
    "    ret = append_kvp(ret, cond_input)\n",
    "    ret = append_iivp(ret, select_inp)\n",
    "    ret = append_ivp(ret, sql_cond_inp)\n",
    "    \n",
    "    return ET.tostring(ret).decode(\"utf-8\").replace(\" \", \"\").replace(\"\\n\", \"\").encode(\"utf-8\")\n",
    "\n",
    "## The Catalog ships with a table of SQL functions that can perform common functions\n",
    "## The first link above also has an example of a specific query.\n",
    "## Note that the server will send back a GenQueryOut_PI; there is no \n",
    "## message type dedicated to results from a specQuery. However, all the SqlResult_PIs\n",
    "## will have `attriInx` set to 0, since knowing the query string allows the client to \n",
    "## reconstruct the order of the columns.\n",
    "def spec_query(\n",
    "    sql,\n",
    "    arg_1,\n",
    "    max_rows=256,\n",
    "    continue_inx=0,\n",
    "    row_offset=0,\n",
    "    options=0,\n",
    "    cond_input={}\n",
    ") -> bytes:\n",
    "    ret = ET.fromstring(f\"\"\"\n",
    "    <specificQueryInp_PI>\n",
    "        <sql>{sql}</sql>\n",
    "        <arg1>{arg_1}</arg1>\n",
    "        <maxRows>{max_rows}</maxRows>\n",
    "        <continueInx>{continue_inx}</continueInx>\n",
    "        <rowOffset>{row_offset}</rowOffset>\n",
    "        <options>{options}</options>\n",
    "    </specificQueryInp_PI>\n",
    "    \"\"\")\n",
    "    ret = append_kvp(ret, cond_input)\n",
    "    \n",
    "    return ET.tostring(ret)"
   ]
  },
  {
   "cell_type": "code",
   "execution_count": 34,
   "id": "ec3fe17c",
   "metadata": {},
   "outputs": [],
   "source": [
    "gq = gen_query(\n",
    "    select_inp={\n",
    "        CATALOG_INDEX_TABLE[\"COL_COLL_NAME\"]    :\"1\",\n",
    "        CATALOG_INDEX_TABLE[\"COL_DATA_NAME\"]    :\"1\",\n",
    "        CATALOG_INDEX_TABLE[\"COL_D_DATA_ID\"]    :\"1\",\n",
    "        CATALOG_INDEX_TABLE[\"COL_DATA_MODE\"]    :\"1\",\n",
    "        CATALOG_INDEX_TABLE[\"COL_DATA_SIZE\"]    :\"1\",\n",
    "        CATALOG_INDEX_TABLE[\"COL_D_MODIFY_TIME\"]:\"1\",\n",
    "        CATALOG_INDEX_TABLE[\"COL_D_CREATE_TIME\"]:\"1\"\n",
    "    },\n",
    "    sql_cond_inp={\n",
    "        CATALOG_INDEX_TABLE[\"COL_COLL_NAME\"]:\"= '/tempZone/home/rods'\"\n",
    "    }\n",
    ")"
   ]
  },
  {
   "cell_type": "markdown",
   "id": "15680582",
   "metadata": {},
   "source": [
    "*NB:* It might be easier to make sense of the server's response if you make sure the directory you're about to stat is populated."
   ]
  },
  {
   "cell_type": "markdown",
   "id": "62cd4285",
   "metadata": {},
   "source": [
    "One quick thing before we send this over to the server: the iRODS dialect of XML has a few quirks related to encoding special characters. Some special characters it does not escape at all. For others, it uses a non-standard encoding. For example, iRODS XML does not distinguish between \"\\`\" and \"'\" (backticks and single quotes). For these reasons, we'll need to write some functions that translate between standard XML and iRODS XML."
   ]
  },
  {
   "cell_type": "code",
   "execution_count": 36,
   "id": "45fbd5b2",
   "metadata": {},
   "outputs": [
    {
     "name": "stdout",
     "output_type": "stream",
     "text": [
      "b\"<GenQueryInp_PI><maxRows>256</maxRows><continueInx>0</continueInx><partialStartIndex>0</partialStartIndex><options>0</options><KeyValPair_PI><ssLen>0</ssLen></KeyValPair_PI><InxIvalPair_PI><iiLen>7</iiLen><inx>501</inx><inx>403</inx><inx>401</inx><inx>421</inx><inx>407</inx><inx>420</inx><inx>419</inx><ivalue>1</ivalue><ivalue>1</ivalue><ivalue>1</ivalue><ivalue>1</ivalue><ivalue>1</ivalue><ivalue>1</ivalue><ivalue>1</ivalue></InxIvalPair_PI><InxValPair_PI><isLen>1</isLen><inx>501</inx><svalue>='/tempZone/home/rods'</svalue></InxValPair_PI></GenQueryInp_PI>\"\n"
     ]
    }
   ],
   "source": [
    "STANDARD_TO_IRODS_TABLE = {\n",
    "  b\"&#34;\":b\"&quot;\",\n",
    "    \n",
    "  b\"&#39;\":b\"&apos;\",\n",
    "    \n",
    "  b\"&#x9;\":b\"\\t\",\n",
    "    \n",
    "  b\"&#xD;\":b\"\\r\",\n",
    "    \n",
    "  b\"&#xA;\":b\"\\n\",\n",
    "    \n",
    "  b\"`\"    :b\"&apos\"\n",
    "}\n",
    "\n",
    "\n",
    "def translate_xml_to_irods_dialect(xml_bytes):\n",
    "    for prefix in standard_to_irods:\n",
    "        xml_bytes = xml_bytes.replace(prefix, STANDARD_TO_IRODS_TABLE[prefix])\n",
    "    return xml_bytes\n",
    "\n",
    "gq = translate_xml_to_irods_dialect(gq)\n",
    "print(gq)\n",
    "h = header(HeaderType.RODS_API_REQ.value, \n",
    "           gq, \n",
    "           int_info=API_TABLE[\"GEN_QUERY_AN\"])"
   ]
  },
  {
   "cell_type": "code",
   "execution_count": 37,
   "id": "3981b31a",
   "metadata": {},
   "outputs": [
    {
     "name": "stdout",
     "output_type": "stream",
     "text": [
      "b'\\x00\\x00\\x00\\x86'\n"
     ]
    }
   ],
   "source": [
    "send_header(h, conn)\n",
    "send_msg(gq, conn)"
   ]
  },
  {
   "cell_type": "markdown",
   "id": "1c3f39c1",
   "metadata": {},
   "source": [
    "The results from this GenQuery might be a little hard to grok. "
   ]
  },
  {
   "cell_type": "code",
   "execution_count": 38,
   "id": "4c14e19e",
   "metadata": {},
   "outputs": [
    {
     "name": "stdout",
     "output_type": "stream",
     "text": [
      "HEADER LEN: [142]\n",
      "HEADER: [<MsgHeader_PI>\n",
      "<type>RODS_API_REPLY</type>\n",
      "<msgLen>4319</msgLen>\n",
      "<errorLen>0</errorLen>\n",
      "<bsLen>0</bsLen>\n",
      "<intInfo>0</intInfo>\n",
      "</MsgHeader_PI>\n",
      "]\n",
      "MSG: [<GenQueryOut_PI>\n",
      "<rowCnt>3</rowCnt>\n",
      "<attriCnt>7</attriCnt>\n",
      "<continueInx>0</continueInx>\n",
      "<totalRowCount>0</totalRowCount>\n",
      "<SqlResult_PI>\n",
      "<attriInx>501</attriInx>\n",
      "<reslen>50</reslen>\n",
      "<value>/tempZone/home/rods</value>\n",
      "<value>/tempZone/home/rods</value>\n",
      "<value>/tempZone/home/rods</value>\n",
      "</SqlResult_PI>\n",
      "<SqlResult_PI>\n",
      "<attriInx>403</attriInx>\n",
      "<reslen>50</reslen>\n",
      "<value>one.cpp</value>\n",
      "<value>three.cpp</value>\n",
      "<value>two.cpp</value>\n",
      "</SqlResult_PI>\n",
      "<SqlResult_PI>\n",
      "<attriInx>401</attriInx>\n",
      "<reslen>50</reslen>\n",
      "<value>10019</value>\n",
      "<value>10021</value>\n",
      "<value>10020</value>\n",
      "</SqlResult_PI>\n",
      "<SqlResult_PI>\n",
      "<attriInx>421</attriInx>\n",
      "<reslen>50</reslen>\n",
      "<value>384</value>\n",
      "<value>384</value>\n",
      "<value>384</value>\n",
      "</SqlResult_PI>\n",
      "<SqlResult_PI>\n",
      "<attriInx>407</attriInx>\n",
      "<reslen>50</reslen>\n",
      "<value>0</value>\n",
      "<value>0</value>\n",
      "<value>0</value>\n",
      "</SqlResult_PI>\n",
      "<SqlResult_PI>\n",
      "<attriInx>420</attriInx>\n",
      "<reslen>50</reslen>\n",
      "<value>01689858512</value>\n",
      "<value>01689858518</value>\n",
      "<value>01689858515</value>\n",
      "</SqlResult_PI>\n",
      "<SqlResult_PI>\n",
      "<attriInx>419</attriInx>\n",
      "<reslen>50</reslen>\n",
      "<value>01689858512</value>\n",
      "<value>01689858518</value>\n",
      "<value>01689858515</value>\n",
      "</SqlResult_PI>\n",
      "<SqlResult_PI>\n",
      "<attriInx>0</attriInx>\n",
      "<reslen>0</reslen>\n",
      "</SqlResult_PI>\n",
      "<SqlResult_PI>\n",
      "<attriInx>0</attriInx>\n",
      "<reslen>0</reslen>\n",
      "</SqlResult_PI>\n",
      "<SqlResult_PI>\n",
      "<attriInx>0</attriInx>\n",
      "<reslen>0</reslen>\n",
      "</SqlResult_PI>\n",
      "<SqlResult_PI>\n",
      "<attriInx>0</attriInx>\n",
      "<reslen>0</reslen>\n",
      "</SqlResult_PI>\n",
      "<SqlResult_PI>\n",
      "<attriInx>0</attriInx>\n",
      "<reslen>0</reslen>\n",
      "</SqlResult_PI>\n",
      "<SqlResult_PI>\n",
      "<attriInx>0</attriInx>\n",
      "<reslen>0</reslen>\n",
      "</SqlResult_PI>\n",
      "<SqlResult_PI>\n",
      "<attriInx>0</attriInx>\n",
      "<reslen>0</reslen>\n",
      "</SqlResult_PI>\n",
      "<SqlResult_PI>\n",
      "<attriInx>0</attriInx>\n",
      "<reslen>0</reslen>\n",
      "</SqlResult_PI>\n",
      "<SqlResult_PI>\n",
      "<attriInx>0</attriInx>\n",
      "<reslen>0</reslen>\n",
      "</SqlResult_PI>\n",
      "<SqlResult_PI>\n",
      "<attriInx>0</attriInx>\n",
      "<reslen>0</reslen>\n",
      "</SqlResult_PI>\n",
      "<SqlResult_PI>\n",
      "<attriInx>0</attriInx>\n",
      "<reslen>0</reslen>\n",
      "</SqlResult_PI>\n",
      "<SqlResult_PI>\n",
      "<attriInx>0</attriInx>\n",
      "<reslen>0</reslen>\n",
      "</SqlResult_PI>\n",
      "<SqlResult_PI>\n",
      "<attriInx>0</attriInx>\n",
      "<reslen>0</reslen>\n",
      "</SqlResult_PI>\n",
      "<SqlResult_PI>\n",
      "<attriInx>0</attriInx>\n",
      "<reslen>0</reslen>\n",
      "</SqlResult_PI>\n",
      "<SqlResult_PI>\n",
      "<attriInx>0</attriInx>\n",
      "<reslen>0</reslen>\n",
      "</SqlResult_PI>\n",
      "<SqlResult_PI>\n",
      "<attriInx>0</attriInx>\n",
      "<reslen>0</reslen>\n",
      "</SqlResult_PI>\n",
      "<SqlResult_PI>\n",
      "<attriInx>0</attriInx>\n",
      "<reslen>0</reslen>\n",
      "</SqlResult_PI>\n",
      "<SqlResult_PI>\n",
      "<attriInx>0</attriInx>\n",
      "<reslen>0</reslen>\n",
      "</SqlResult_PI>\n",
      "<SqlResult_PI>\n",
      "<attriInx>0</attriInx>\n",
      "<reslen>0</reslen>\n",
      "</SqlResult_PI>\n",
      "<SqlResult_PI>\n",
      "<attriInx>0</attriInx>\n",
      "<reslen>0</reslen>\n",
      "</SqlResult_PI>\n",
      "<SqlResult_PI>\n",
      "<attriInx>0</attriInx>\n",
      "<reslen>0</reslen>\n",
      "</SqlResult_PI>\n",
      "<SqlResult_PI>\n",
      "<attriInx>0</attriInx>\n",
      "<reslen>0</reslen>\n",
      "</SqlResult_PI>\n",
      "<SqlResult_PI>\n",
      "<attriInx>0</attriInx>\n",
      "<reslen>0</reslen>\n",
      "</SqlResult_PI>\n",
      "<SqlResult_PI>\n",
      "<attriInx>0</attriInx>\n",
      "<reslen>0</reslen>\n",
      "</SqlResult_PI>\n",
      "<SqlResult_PI>\n",
      "<attriInx>0</attriInx>\n",
      "<reslen>0</reslen>\n",
      "</SqlResult_PI>\n",
      "<SqlResult_PI>\n",
      "<attriInx>0</attriInx>\n",
      "<reslen>0</reslen>\n",
      "</SqlResult_PI>\n",
      "<SqlResult_PI>\n",
      "<attriInx>0</attriInx>\n",
      "<reslen>0</reslen>\n",
      "</SqlResult_PI>\n",
      "<SqlResult_PI>\n",
      "<attriInx>0</attriInx>\n",
      "<reslen>0</reslen>\n",
      "</SqlResult_PI>\n",
      "<SqlResult_PI>\n",
      "<attriInx>0</attriInx>\n",
      "<reslen>0</reslen>\n",
      "</SqlResult_PI>\n",
      "<SqlResult_PI>\n",
      "<attriInx>0</attriInx>\n",
      "<reslen>0</reslen>\n",
      "</SqlResult_PI>\n",
      "<SqlResult_PI>\n",
      "<attriInx>0</attriInx>\n",
      "<reslen>0</reslen>\n",
      "</SqlResult_PI>\n",
      "<SqlResult_PI>\n",
      "<attriInx>0</attriInx>\n",
      "<reslen>0</reslen>\n",
      "</SqlResult_PI>\n",
      "<SqlResult_PI>\n",
      "<attriInx>0</attriInx>\n",
      "<reslen>0</reslen>\n",
      "</SqlResult_PI>\n",
      "<SqlResult_PI>\n",
      "<attriInx>0</attriInx>\n",
      "<reslen>0</reslen>\n",
      "</SqlResult_PI>\n",
      "<SqlResult_PI>\n",
      "<attriInx>0</attriInx>\n",
      "<reslen>0</reslen>\n",
      "</SqlResult_PI>\n",
      "<SqlResult_PI>\n",
      "<attriInx>0</attriInx>\n",
      "<reslen>0</reslen>\n",
      "</SqlResult_PI>\n",
      "<SqlResult_PI>\n",
      "<attriInx>0</attriInx>\n",
      "<reslen>0</reslen>\n",
      "</SqlResult_PI>\n",
      "<SqlResult_PI>\n",
      "<attriInx>0</attriInx>\n",
      "<reslen>0</reslen>\n",
      "</SqlResult_PI>\n",
      "<SqlResult_PI>\n",
      "<attriInx>0</attriInx>\n",
      "<reslen>0</reslen>\n",
      "</SqlResult_PI>\n",
      "<SqlResult_PI>\n",
      "<attriInx>0</attriInx>\n",
      "<reslen>0</reslen>\n",
      "</SqlResult_PI>\n",
      "<SqlResult_PI>\n",
      "<attriInx>0</attriInx>\n",
      "<reslen>0</reslen>\n",
      "</SqlResult_PI>\n",
      "<SqlResult_PI>\n",
      "<attriInx>0</attriInx>\n",
      "<reslen>0</reslen>\n",
      "</SqlResult_PI>\n",
      "<SqlResult_PI>\n",
      "<attriInx>0</attriInx>\n",
      "<reslen>0</reslen>\n",
      "</SqlResult_PI>\n",
      "</GenQueryOut_PI>\n",
      "]\n"
     ]
    }
   ],
   "source": [
    "h, m = recv(conn)"
   ]
  },
  {
   "cell_type": "markdown",
   "id": "290503e2",
   "metadata": {},
   "source": [
    "To demonstrate how they amount to valid SQL results, let's translate these into a Pandas DataFrame. To see a similar example in C++ that operates above the protocol level, refer to the genQuery1 documentation linked above."
   ]
  },
  {
   "cell_type": "code",
   "execution_count": 47,
   "id": "703283e0",
   "metadata": {},
   "outputs": [
    {
     "data": {
      "text/html": [
       "<div>\n",
       "<style scoped>\n",
       "    .dataframe tbody tr th:only-of-type {\n",
       "        vertical-align: middle;\n",
       "    }\n",
       "\n",
       "    .dataframe tbody tr th {\n",
       "        vertical-align: top;\n",
       "    }\n",
       "\n",
       "    .dataframe thead th {\n",
       "        text-align: right;\n",
       "    }\n",
       "</style>\n",
       "<table border=\"1\" class=\"dataframe\">\n",
       "  <thead>\n",
       "    <tr style=\"text-align: right;\">\n",
       "      <th></th>\n",
       "      <th>COL_COLL_NAME</th>\n",
       "      <th>COL_DATA_NAME</th>\n",
       "      <th>COL_D_DATA_ID</th>\n",
       "      <th>COL_DATA_MODE</th>\n",
       "      <th>COL_DATA_SIZE</th>\n",
       "      <th>COL_D_MODIFY_TIME</th>\n",
       "      <th>COL_D_CREATE_TIME</th>\n",
       "    </tr>\n",
       "  </thead>\n",
       "  <tbody>\n",
       "    <tr>\n",
       "      <th>0</th>\n",
       "      <td>/tempZone/home/rods</td>\n",
       "      <td>one.cpp</td>\n",
       "      <td>10019</td>\n",
       "      <td>384</td>\n",
       "      <td>0</td>\n",
       "      <td>01689858512</td>\n",
       "      <td>01689858512</td>\n",
       "    </tr>\n",
       "    <tr>\n",
       "      <th>1</th>\n",
       "      <td>/tempZone/home/rods</td>\n",
       "      <td>three.cpp</td>\n",
       "      <td>10021</td>\n",
       "      <td>384</td>\n",
       "      <td>0</td>\n",
       "      <td>01689858518</td>\n",
       "      <td>01689858518</td>\n",
       "    </tr>\n",
       "    <tr>\n",
       "      <th>2</th>\n",
       "      <td>/tempZone/home/rods</td>\n",
       "      <td>two.cpp</td>\n",
       "      <td>10020</td>\n",
       "      <td>384</td>\n",
       "      <td>0</td>\n",
       "      <td>01689858515</td>\n",
       "      <td>01689858515</td>\n",
       "    </tr>\n",
       "  </tbody>\n",
       "</table>\n",
       "</div>"
      ],
      "text/plain": [
       "         COL_COLL_NAME COL_DATA_NAME COL_D_DATA_ID COL_DATA_MODE  \\\n",
       "0  /tempZone/home/rods       one.cpp         10019           384   \n",
       "1  /tempZone/home/rods     three.cpp         10021           384   \n",
       "2  /tempZone/home/rods       two.cpp         10020           384   \n",
       "\n",
       "  COL_DATA_SIZE COL_D_MODIFY_TIME COL_D_CREATE_TIME  \n",
       "0             0       01689858512       01689858512  \n",
       "1             0       01689858518       01689858518  \n",
       "2             0       01689858515       01689858515  "
      ]
     },
     "execution_count": 47,
     "metadata": {},
     "output_type": "execute_result"
    }
   ],
   "source": [
    "def read_gen_query_results_into_dataframe(gqr):    \n",
    "    ## Each SqlResult_PI is a column of data\n",
    "    ## Collect them all into a list\n",
    "    ## We can safely ignore the \"reslen\" attribute since the Python XML \n",
    "    ## API already knows how large each string is, but you might use it for error checking\n",
    "    row_cnt = int(gqr.find(\"rowCnt\").text)\n",
    "    attribute_cnt = int(gqr.find(\"attriCnt\").text)\n",
    "    \n",
    "    data = {}\n",
    "    for result in gqr.findall(\"SqlResult_PI\"):\n",
    "        attri_inx = result.find(\"attriInx\").text\n",
    "        if attri_inx == \"0\":\n",
    "            continue\n",
    "        # res_len = int(result.find(\"reslen\").text)\n",
    "        values = result.findall(\"value\")\n",
    "        col = [value.text for value in values]\n",
    "        data[CATALOG_REVERSE_INDEX_TABLE[attri_inx]] = col\n",
    "            \n",
    "    return pd.DataFrame(data)\n",
    "\n",
    "read_gen_query_results_into_dataframe(m)"
   ]
  },
  {
   "cell_type": "markdown",
   "id": "625e28c2",
   "metadata": {},
   "source": [
    "# Data Transfer <a class=\"anchor\" id=\"data_transfer\"></a>\n",
    "\n",
    "Now that we can see the contents of this collection, let's create a new data object inside of it. \n",
    "This will show cases some of the more advanced features of `condInpt`. "
   ]
  },
  {
   "cell_type": "code",
   "execution_count": 50,
   "id": "1b0b3953",
   "metadata": {},
   "outputs": [],
   "source": [
    "## Suppose we want to transfer a file containing this text.\n",
    "hello_cpp = \"\"\"\n",
    "#include <iostream>\n",
    "\n",
    "int main() {\n",
    "    std::cout << \"Hello World!\";\n",
    "    return 0;\n",
    "}\n",
    "\"\"\""
   ]
  },
  {
   "cell_type": "code",
   "execution_count": null,
   "id": "c69818d4",
   "metadata": {},
   "outputs": [],
   "source": [
    "data_object_name = \"hello.cpp\"\n",
    "data_size=len(hello_cpp.encode(\"utf-8\"))\n",
    "iput_payload = data_obj_inp(\n",
    "    f\"/tempZone/home/rods/{data_object_name}\",\n",
    "    open_flags=\"2\",\n",
    "    data_size=data_size,\n",
    "    opr_type=\"1\",\n",
    "    cond_input={\n",
    "        \"dataType\":\"generic\",\n",
    "        \"dataSize\":data_size,\n",
    "        \"dataIncluded\":\"\"    ## Generally, keys with empty values in cond_input act as flags\n",
    "    }\n",
    ")"
   ]
  },
  {
   "cell_type": "code",
   "execution_count": 48,
   "id": "5223765b",
   "metadata": {},
   "outputs": [],
   "source": [
    "def disconnect(sock):\n",
    "    sock.send(\n",
    "        header(HeaderType.RODS_DISCONNECT.value, \"\") ## Empty string so msgLen is 0\n",
    "    )"
   ]
  },
  {
   "cell_type": "code",
   "execution_count": 49,
   "id": "a2778b85",
   "metadata": {},
   "outputs": [],
   "source": [
    "disconnect(conn)\n",
    "conn.close()"
   ]
  },
  {
   "cell_type": "code",
   "execution_count": null,
   "id": "85ed427b",
   "metadata": {},
   "outputs": [],
   "source": []
  }
 ],
 "metadata": {
  "kernelspec": {
   "display_name": "Python 3 (ipykernel)",
   "language": "python",
   "name": "python3"
  },
  "language_info": {
   "codemirror_mode": {
    "name": "ipython",
    "version": 3
   },
   "file_extension": ".py",
   "mimetype": "text/x-python",
   "name": "python",
   "nbconvert_exporter": "python",
   "pygments_lexer": "ipython3",
   "version": "3.11.1"
  }
 },
 "nbformat": 4,
 "nbformat_minor": 5
}

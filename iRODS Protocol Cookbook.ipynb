{
 "cells": [
  {
   "cell_type": "markdown",
   "id": "f38abb02",
   "metadata": {},
   "source": [
    "This notebook will provide example implementations of key \n",
    "operations in the iRODS protocol"
   ]
  },
  {
   "cell_type": "code",
   "execution_count": 1,
   "id": "dc628c5c",
   "metadata": {},
   "outputs": [],
   "source": [
    "## We'll be doing this from scratch, so all imports will come from \n",
    "## the Python standard library\n",
    "import socket\n",
    "import struct\n",
    "import base64\n",
    "import json\n",
    "import hashlib\n",
    "import time\n",
    "import enum\n",
    "import xml.etree.ElementTree as ET\n",
    "from enum import Enum"
   ]
  },
  {
   "cell_type": "markdown",
   "id": "0c91015d",
   "metadata": {},
   "source": [
    "This tutorial assumes you have deployed iRODS in Docker using\n",
    "the script stand_it_up.py from the iRODS Testing Environment, \n",
    "which can be found on Github [here](https://github.com/irods/irods_testing_environment)\n",
    "To find the IP address associated with your Docker container, you can run this one-liner:\n",
    "```bash\n",
    "docker inspect   -f '{{range.NetworkSettings.Networks}}{{.IPAddress}}{{end}}' ubuntu-2004-postgres-1012_irods-catalog-provider_1\n",
    "```\n",
    "Otherwise, if want to try this out on a real-world zone, insert that zone's hostname here."
   ]
  },
  {
   "cell_type": "code",
   "execution_count": 2,
   "id": "74b0de59",
   "metadata": {},
   "outputs": [],
   "source": [
    "HOST = \"172.19.0.3\""
   ]
  },
  {
   "cell_type": "code",
   "execution_count": 3,
   "id": "a8c1d8c2",
   "metadata": {},
   "outputs": [],
   "source": [
    "PORT = 1247 ## This is the standard iRODS port\n",
    "MAX_PASSWORD_LENGTH = 50 ## This constant comes \n",
    "                         ## from the internals \n",
    "                         ## of the iRODS server"
   ]
  },
  {
   "cell_type": "markdown",
   "id": "39d8eec8",
   "metadata": {},
   "source": [
    "First, we're going to write a small library of functions that do some \n",
    "of the dirty work. \n",
    "Feel free to skip to [here](#start_of_real_work), where we start using this library to send\n",
    "and read messages, referring to this part to figure out how\n",
    "the part you're interested in was implemented."
   ]
  },
  {
   "cell_type": "code",
   "execution_count": 4,
   "id": "3689fe9d",
   "metadata": {},
   "outputs": [],
   "source": [
    "## We can define these in an enum since \n",
    "## header types are a closed class and are not sensitive to any\n",
    "## particular API.\n",
    "class HeaderType(Enum):\n",
    "    RODS_CONNECT = \"RODS_CONNECT\"\n",
    "    RODS_DISCONNECT = \"RODS_DISCONNECT\"\n",
    "    RODS_API_REQ = \"RODS_API_REQ\"\n",
    "    RODS_API_REPLY = \"RODS_API_REPLY\"\n",
    "    RODS_VERSION = \"RODS_VERSION\"\n",
    "\n",
    "def header(header_type: HeaderType, msg: bytes, error_len=0, bs_len=0, int_info=0):\n",
    "    return f\"\"\"\n",
    "        <MsgHeader_PI>\n",
    "            <type>{header_type}</type>\n",
    "            <msgLen>{len(msg)}</msgLen>\n",
    "            <errorLen>{error_len}</errorLen>\n",
    "            <bsLen>{bs_len}</bsLen>\n",
    "            <intInfo>{int_info}</intInfo>\n",
    "        </MsgHeader_PI>\n",
    "        \"\"\".replace(' ', '').replace('\\n', '').encode('utf-8') ## The protocol is whitespace-insensitive,\n",
    "                                                               ## but I removed them here for cleanliness\n",
    "                                                               ## and efficiency for when this gets pushed\n",
    "                                                               ## through the pipe."
   ]
  },
  {
   "cell_type": "code",
   "execution_count": 5,
   "id": "399ab08f",
   "metadata": {},
   "outputs": [],
   "source": [
    "def send_header(header, sock):\n",
    "    header_len = int.to_bytes(len(header), byteorder='big', length=4) ## The first part of all iRODS messages\n",
    "                                                                      ## must be 4 bytes indicating how long\n",
    "                                                                      ## the header is in bytes. These bytes\n",
    "                                                                      ## and the entire integer must be transmitted\n",
    "                                                                      ## in big-endian order\n",
    "    print(header_len)\n",
    "    sock.sendall(header_len)\n",
    "    sock.sendall(header)\n",
    "    \n",
    "def send_msg(msg, sock) -> None:\n",
    "    sock.sendall(msg)\n",
    "    \n",
    "def recv(sock) -> [ET, ET]:\n",
    "    header_len = int.from_bytes(sock.recv(4), byteorder='big')\n",
    "    print(f\"HEADER LEN: [{header_len}]\")\n",
    "    \n",
    "    header = sock.recv(header_len).decode(\"utf-8\")\n",
    "    print(f\"HEADER: [{header}]\")\n",
    "    \n",
    "    msg = sock.recv(\n",
    "        int(ET.fromstring(header).find(\"msgLen\").text)).decode(\"utf-8\")\n",
    "    print(f\"MSG: [{msg}]\")\n",
    "    \n",
    "    return ET.fromstring(header), ET.fromstring(msg)"
   ]
  },
  {
   "cell_type": "markdown",
   "id": "fe23f0bf",
   "metadata": {},
   "source": [
    "## Start of the \"Real Work\" <a class=\"anchor\" id=\"start_of_real_work\"></a>\n",
    "Note that even if you are using "
   ]
  },
  {
   "cell_type": "code",
   "execution_count": 6,
   "id": "c003556b",
   "metadata": {},
   "outputs": [],
   "source": [
    "class IrodsProt(Enum):\n",
    "    NATIVE_PROT = 0\n",
    "    XML_PROT = 1\n",
    "\n",
    "## Now, let's start the connection process. First, we need an easy way to create the StartupPack.\n",
    "def startup_pack(irods_prot=IrodsProt.XML_PROT.value,\n",
    "                 reconn_flag=0, \n",
    "                 connect_cnt=0,\n",
    "                 proxy_user=None,\n",
    "                 proxy_rcat_zone=None,\n",
    "                 client_user=\"rods\", \n",
    "                 client_rcat_zone=\"tempZone\", \n",
    "                 rel_version=\"4.3.0\", \n",
    "                 api_version=\"d\", ## This MUST ALWAYS be \"d.\" This value has been hardcoded into iRODS\n",
    "                                  ## since very early days.\n",
    "                 option=None ## This option controls, among other things,whether SSL negotiation is required.\n",
    "                ) -> str:\n",
    "    return f\"\"\"\n",
    "    <StartupPack_PI>\n",
    "             <irodsProt>{irods_prot}</irodsProt>\n",
    "             <reconnFlag>{reconn_flag}</reconnFlag>\n",
    "             <connectCnt>{connect_cnt}</connectCnt>\n",
    "             <proxyUser>{proxy_user or client_user}</proxyUser>\n",
    "             <proxyRcatZone>{proxy_rcat_zone or client_rcat_zone}</proxyRcatZone>\n",
    "             <clientUser>{client_user}</clientUser>\n",
    "             <clientRcatZone>{client_rcat_zone}</clientRcatZone>\n",
    "             <relVersion>rods{rel_version}</relVersion>\n",
    "             <apiVersion>{api_version}</apiVersion>\n",
    "             <option>{option}</option>\n",
    "    </StartupPack_PI>\n",
    "    \"\"\".replace(\" \", \"\").replace(\"\\n\", \"\").encode(\"utf-8\")"
   ]
  },
  {
   "cell_type": "markdown",
   "id": "507545b9",
   "metadata": {},
   "source": [
    "We're going to be sending raw bytes over a socket, so let's create one\n",
    "If at some point the Notebook stops working, remember\n",
    "to manually close the socket."
   ]
  },
  {
   "cell_type": "code",
   "execution_count": 7,
   "id": "2c0748a4",
   "metadata": {},
   "outputs": [],
   "source": [
    "conn = socket.socket(socket.AF_INET, socket.SOCK_STREAM)\n",
    "conn.connect((HOST, PORT)) "
   ]
  },
  {
   "cell_type": "code",
   "execution_count": 8,
   "id": "c4fc1ff5",
   "metadata": {},
   "outputs": [
    {
     "data": {
      "text/plain": [
       "b'<StartupPack_PI><irodsProt>1</irodsProt><reconnFlag>0</reconnFlag><connectCnt>0</connectCnt><proxyUser>rods</proxyUser><proxyRcatZone>tempZone</proxyRcatZone><clientUser>rods</clientUser><clientRcatZone>tempZone</clientRcatZone><relVersion>rods4.3.0</relVersion><apiVersion>d</apiVersion><option>None</option></StartupPack_PI>'"
      ]
     },
     "execution_count": 8,
     "metadata": {},
     "output_type": "execute_result"
    }
   ],
   "source": [
    "sp = startup_pack()\n",
    "sp"
   ]
  },
  {
   "cell_type": "code",
   "execution_count": 9,
   "id": "a4c10fc2",
   "metadata": {},
   "outputs": [
    {
     "data": {
      "text/plain": [
       "b'<MsgHeader_PI><type>RODS_CONNECT</type><msgLen>326</msgLen><errorLen>0</errorLen><bsLen>0</bsLen><intInfo>0</intInfo></MsgHeader_PI>'"
      ]
     },
     "execution_count": 9,
     "metadata": {},
     "output_type": "execute_result"
    }
   ],
   "source": [
    "h = header(HeaderType.RODS_CONNECT.value, sp)\n",
    "h"
   ]
  },
  {
   "cell_type": "code",
   "execution_count": 10,
   "id": "46a98718",
   "metadata": {},
   "outputs": [
    {
     "name": "stdout",
     "output_type": "stream",
     "text": [
      "b'\\x00\\x00\\x00\\x84'\n"
     ]
    }
   ],
   "source": [
    "send_header(h, conn)\n",
    "send_msg(sp, conn)"
   ]
  },
  {
   "cell_type": "code",
   "execution_count": 11,
   "id": "156aa794",
   "metadata": {},
   "outputs": [
    {
     "name": "stdout",
     "output_type": "stream",
     "text": [
      "HEADER LEN: [139]\n",
      "HEADER: [<MsgHeader_PI>\n",
      "<type>RODS_VERSION</type>\n",
      "<msgLen>182</msgLen>\n",
      "<errorLen>0</errorLen>\n",
      "<bsLen>0</bsLen>\n",
      "<intInfo>0</intInfo>\n",
      "</MsgHeader_PI>\n",
      "]\n",
      "MSG: [<Version_PI>\n",
      "<status>0</status>\n",
      "<relVersion>rods4.3.0</relVersion>\n",
      "<apiVersion>d</apiVersion>\n",
      "<reconnPort>0</reconnPort>\n",
      "<reconnAddr></reconnAddr>\n",
      "<cookie>400</cookie>\n",
      "</Version_PI>\n",
      "]\n"
     ]
    }
   ],
   "source": [
    "## In this Version_PI, status of 0 lets us know that negotiation has been successful.\n",
    "h, msg = recv(conn)"
   ]
  },
  {
   "cell_type": "markdown",
   "id": "a2aa8f4a",
   "metadata": {},
   "source": [
    "Next up, we need to authenticate using our API of choice. \n",
    "Since this is a basic cookbook for 4.3.0, we'll be using the new \n",
    "auth framework's port of native authentication.\n",
    "This API works by exchanging binary buffers between client and server.\n",
    "Since XML must be valid UTF-8, this binary data MUST be base64-encoded."
   ]
  },
  {
   "cell_type": "code",
   "execution_count": 12,
   "id": "51a326c6",
   "metadata": {},
   "outputs": [],
   "source": [
    "def encode_dict_as_base64_json(d): \n",
    "    return base64.b64encode(\n",
    "        json.dumps(d).encode('utf-8'))"
   ]
  },
  {
   "cell_type": "markdown",
   "id": "05d82a1f",
   "metadata": {},
   "source": [
    "The payload is decoded because otherwise Python will \n",
    "add extra characters to give a string representation of the bytes object"
   ]
  },
  {
   "cell_type": "code",
   "execution_count": 13,
   "id": "60f63630",
   "metadata": {},
   "outputs": [],
   "source": [
    "def read_base64_into_json(bsix, trunc=False):\n",
    "    decoded = base64.b64decode(bsix).decode('utf-8')\n",
    "    return json.loads(decoded[:-1]) if trunc else json.loads(decoded)\n",
    "\n",
    "def bin_bytes_buf(payload):\n",
    "    payload = encode_dict_as_base64_json(payload)\n",
    "    return f\"\"\"\n",
    "    <BinBytesBuf_PI>\n",
    "        <buflen>{len(payload)}</buflen>\n",
    "        <buf>{payload.decode('utf-8')}</buf>\n",
    "    </BinBytesBuf_PI>\n",
    "    \"\"\".replace(\" \", \"\").replace(\"\\n\",\"\").encode('utf8')"
   ]
  },
  {
   "cell_type": "code",
   "execution_count": 14,
   "id": "710cb919",
   "metadata": {},
   "outputs": [],
   "source": [
    "## Some API-specific parameters\n",
    "auth_ctx = {\n",
    "    \"a_ttl\":\"0\",\n",
    "    \"force_password_prompt\":\"true\",\n",
    "    \"next_operation\":\"auth_agent_auth_request\",\n",
    "    \"scheme\":\"native\",\n",
    "    \"user_name\":\"rods\",\n",
    "    \"zone_name\":\"tempZone\"\n",
    "}"
   ]
  },
  {
   "cell_type": "code",
   "execution_count": 15,
   "id": "d01c8c62",
   "metadata": {},
   "outputs": [
    {
     "name": "stdout",
     "output_type": "stream",
     "text": [
      "b'<BinBytesBuf_PI><buflen>212</buflen><buf>eyJhX3R0bCI6ICIwIiwgImZvcmNlX3Bhc3N3b3JkX3Byb21wdCI6ICJ0cnVlIiwgIm5leHRfb3BlcmF0aW9uIjogImF1dGhfYWdlbnRfYXV0aF9yZXF1ZXN0IiwgInNjaGVtZSI6ICJuYXRpdmUiLCAidXNlcl9uYW1lIjogInJvZHMiLCAiem9uZV9uYW1lIjogInRlbXBab25lIn0=</buf></BinBytesBuf_PI>'\n",
      "b'\\x00\\x00\\x00\\x89'\n"
     ]
    }
   ],
   "source": [
    "AUTHENTICATION_APN = 110000 ## The API number for the 4.3.0 auth framework\n",
    "initial_auth_msg = bin_bytes_buf(auth_ctx)\n",
    "print(initial_auth_msg)\n",
    "h = header(HeaderType.RODS_API_REQ.value, \n",
    "           initial_auth_msg, \n",
    "           int_info=AUTHENTICATION_APN)\n",
    "send_header(h, conn)\n",
    "send_msg(initial_auth_msg, conn)"
   ]
  },
  {
   "cell_type": "code",
   "execution_count": 16,
   "id": "7c166a29",
   "metadata": {},
   "outputs": [
    {
     "name": "stdout",
     "output_type": "stream",
     "text": [
      "HEADER LEN: [141]\n",
      "HEADER: [<MsgHeader_PI>\n",
      "<type>RODS_API_REPLY</type>\n",
      "<msgLen>380</msgLen>\n",
      "<errorLen>0</errorLen>\n",
      "<bsLen>0</bsLen>\n",
      "<intInfo>0</intInfo>\n",
      "</MsgHeader_PI>\n",
      "]\n",
      "MSG: [<BinBytesBuf_PI>\n",
      "<buflen>232</buflen>\n",
      "<buf>eyJhX3R0bCI6IjAiLCJmb3JjZV9wYXNzd29yZF9wcm9tcHQiOiJ0cnVlIiwibmV4dF9vcGVyYXRpb24iOiJhdXRoX2FnZW50X2F1dGhfcmVxdWVzdCIsInJlcXVlc3RfcmVzdWx0IjoiMmMzMjdjMmY2OTRhMGI0ZjQ3MDAyMzc2YmI2ZDY5YjNlZGJhNzJkYmFkM2E1ZmFmNDAwYTUzODQ1NTBiNzJlMyIsInNjaGVtZSI6Im5hdGl2ZSIsInVzZXJfbmFtZSI6InJvZHMiLCJ6b25lX25hbWUiOiJ0ZW1wWm9uZSJ9AA==</buf>\n",
      "</BinBytesBuf_PI>\n",
      "]\n"
     ]
    }
   ],
   "source": [
    "h, m = recv(conn)"
   ]
  },
  {
   "cell_type": "markdown",
   "id": "8061bd75",
   "metadata": {},
   "source": [
    "If you were writing a real client library or application, you would want to check intInfo for error codes\n",
    "so you could respond appropriately. Here, we're going to move on blissfully unaware."
   ]
  },
  {
   "cell_type": "code",
   "execution_count": 17,
   "id": "df74a610",
   "metadata": {},
   "outputs": [
    {
     "name": "stdout",
     "output_type": "stream",
     "text": [
      "REQUEST RESULT: [2c327c2f694a0b4f47002376bb6d69b3edba72dbad3a5faf400a5384550b72e3]\n"
     ]
    }
   ],
   "source": [
    "auth_ctx = read_base64_into_json(m.find(\"buf\").text, trunc=True)\n",
    "request_result = auth_ctx[ 'request_result']\n",
    "print(f\"REQUEST RESULT: [{request_result}]\")"
   ]
  },
  {
   "cell_type": "code",
   "execution_count": 18,
   "id": "fe416687",
   "metadata": {},
   "outputs": [
    {
     "name": "stdout",
     "output_type": "stream",
     "text": [
      "b'<BinBytesBuf_PI><buflen>380</buflen><buf>eyJhX3R0bCI6ICIwIiwgImZvcmNlX3Bhc3N3b3JkX3Byb21wdCI6ICJ0cnVlIiwgIm5leHRfb3BlcmF0aW9uIjogImF1dGhfYWdlbnRfYXV0aF9yZXNwb25zZSIsICJyZXF1ZXN0X3Jlc3VsdCI6ICIyYzMyN2MyZjY5NGEwYjRmNDcwMDIzNzZiYjZkNjliM2VkYmE3MmRiYWQzYTVmYWY0MDBhNTM4NDU1MGI3MmUzIiwgInNjaGVtZSI6ICJuYXRpdmUiLCAidXNlcl9uYW1lIjogInJvZHMiLCAiem9uZV9uYW1lIjogInRlbXBab25lIiwgImRpZ2VzdCI6ICJjckRLZEZYSS9wdXR5TjVDVEhlTE5RPT0ifQ==</buf></BinBytesBuf_PI>'\n"
     ]
    }
   ],
   "source": [
    "def pad_password(pw):\n",
    "    return struct.pack(\"%ds\" % MAX_PASSWORD_LENGTH, pw.encode(\"utf-8\").strip())\n",
    "\n",
    "## Native auth specific operations\n",
    "m = hashlib.md5()\n",
    "m.update(request_result.encode(\"utf-8\"))\n",
    "m.update(pad_password(\"rods\"))\n",
    "digest = m.digest()\n",
    "encoded_digest = base64.b64encode(digest).decode('utf-8')\n",
    "auth_ctx['digest'] = encoded_digest\n",
    "auth_ctx['next_operation'] = 'auth_agent_auth_response'\n",
    "challenge_response = bin_bytes_buf(auth_ctx)\n",
    "print(challenge_response)"
   ]
  },
  {
   "cell_type": "code",
   "execution_count": 19,
   "id": "95b977dc",
   "metadata": {},
   "outputs": [
    {
     "name": "stdout",
     "output_type": "stream",
     "text": [
      "b'\\x00\\x00\\x00\\x89'\n"
     ]
    }
   ],
   "source": [
    "h = header(HeaderType.RODS_API_REQ.value, challenge_response, int_info=AUTHENTICATION_APN)\n",
    "send_header(h, conn)\n",
    "send_msg(challenge_response, conn)"
   ]
  },
  {
   "cell_type": "code",
   "execution_count": 20,
   "id": "c52e4b70",
   "metadata": {},
   "outputs": [
    {
     "name": "stdout",
     "output_type": "stream",
     "text": [
      "HEADER LEN: [141]\n",
      "HEADER: [<MsgHeader_PI>\n",
      "<type>RODS_API_REPLY</type>\n",
      "<msgLen>428</msgLen>\n",
      "<errorLen>0</errorLen>\n",
      "<bsLen>0</bsLen>\n",
      "<intInfo>0</intInfo>\n",
      "</MsgHeader_PI>\n",
      "]\n",
      "MSG: [<BinBytesBuf_PI>\n",
      "<buflen>269</buflen>\n",
      "<buf>eyJhX3R0bCI6IjAiLCJkaWdlc3QiOiJjckRLZEZYSS9wdXR5TjVDVEhlTE5RPT0iLCJmb3JjZV9wYXNzd29yZF9wcm9tcHQiOiJ0cnVlIiwibmV4dF9vcGVyYXRpb24iOiJhdXRoX2FnZW50X2F1dGhfcmVzcG9uc2UiLCJyZXF1ZXN0X3Jlc3VsdCI6IjJjMzI3YzJmNjk0YTBiNGY0NzAwMjM3NmJiNmQ2OWIzZWRiYTcyZGJhZDNhNWZhZjQwMGE1Mzg0NTUwYjcyZTMiLCJzY2hlbWUiOiJuYXRpdmUiLCJ1c2VyX25hbWUiOiJyb2RzIiwiem9uZV9uYW1lIjoidGVtcFpvbmUifQA=</buf>\n",
      "</BinBytesBuf_PI>\n",
      "]\n"
     ]
    }
   ],
   "source": [
    "h, m = recv(conn)"
   ]
  },
  {
   "cell_type": "code",
   "execution_count": null,
   "id": "5223765b",
   "metadata": {},
   "outputs": [],
   "source": [
    "def disconnect(sock):\n",
    "    sock.send(\n",
    "        header(HeaderType.RODS_DISCONNECT.value, \"\") ## Empty string so msgLen is 0\n",
    "    )"
   ]
  },
  {
   "cell_type": "code",
   "execution_count": null,
   "id": "a2778b85",
   "metadata": {},
   "outputs": [],
   "source": [
    "disconnect(conn)\n",
    "conn.close()"
   ]
  },
  {
   "cell_type": "code",
   "execution_count": null,
   "id": "a8125938",
   "metadata": {},
   "outputs": [],
   "source": []
  }
 ],
 "metadata": {
  "kernelspec": {
   "display_name": "Python 3 (ipykernel)",
   "language": "python",
   "name": "python3"
  },
  "language_info": {
   "codemirror_mode": {
    "name": "ipython",
    "version": 3
   },
   "file_extension": ".py",
   "mimetype": "text/x-python",
   "name": "python",
   "nbconvert_exporter": "python",
   "pygments_lexer": "ipython3",
   "version": "3.11.1"
  }
 },
 "nbformat": 4,
 "nbformat_minor": 5
}
